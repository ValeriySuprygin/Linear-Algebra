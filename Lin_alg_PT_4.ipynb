{
 "cells": [
  {
   "cell_type": "markdown",
   "id": "708f5347",
   "metadata": {},
   "source": [
    "## Практическое задание №4."
   ]
  },
  {
   "cell_type": "markdown",
   "id": "7a3d4b57",
   "metadata": {},
   "source": [
    "## Системы линейных уравнений. Часть 1"
   ]
  },
  {
   "cell_type": "markdown",
   "id": "49bd0e78",
   "metadata": {},
   "source": [
    "### Задача 1"
   ]
  },
  {
   "cell_type": "markdown",
   "id": "45ce4b7f",
   "metadata": {},
   "source": [
    "_**Условие:**_"
   ]
  },
  {
   "cell_type": "markdown",
   "id": "3103ff0f",
   "metadata": {},
   "source": [
    "Решите систему уравнений методом Гаусса:\n",
    "\n",
    "\n",
    "$$\\begin{cases}\n",
    "x_{1}+x_{2}-x_{3}-2x_{4}=0, \\\\\n",
    "2x_{1}+x_{2}-x_{3}+x_{4}=-2, \\\\\n",
    "x_{1}+x_{2}-3x_{3}+x_{4}=4\n",
    "\\end{cases}$$"
   ]
  },
  {
   "cell_type": "markdown",
   "id": "adb6cf87",
   "metadata": {},
   "source": [
    "_**Решение:**_"
   ]
  },
  {
   "cell_type": "markdown",
   "id": "9f8dbe6c",
   "metadata": {},
   "source": [
    "Расширенная матрица данной системы уравнений:\n",
    "\n",
    "$$\\begin{pmatrix}\n",
    "\\left.\\begin{matrix}\n",
    "1 & 1 & -1 & -2\\\\ \n",
    "2 & 1 & -1 & 1\\\\ \n",
    "1 & 1 & -3 & 1\n",
    "\\end{matrix}\\right|\n",
    "\\begin{matrix}\n",
    "0\\\\ \n",
    "-2\\\\\n",
    "4\n",
    "\\end{matrix}\n",
    "\\end{pmatrix}$$"
   ]
  },
  {
   "cell_type": "markdown",
   "id": "ef7a0749",
   "metadata": {},
   "source": [
    "Вычтем из второй строки первую, умноженную на 2, а из третьей - вычтем первую:\n",
    "\n",
    "$$\\begin{pmatrix}\n",
    "\\left.\\begin{matrix}\n",
    "1 & 1 & -1 & -2\\\\ \n",
    "0 & -1 & 1 & 5\\\\ \n",
    "0 & 0 & -2 & 3\n",
    "\\end{matrix}\\right|\n",
    "\\begin{matrix}\n",
    "0\\\\ \n",
    "-2\\\\\n",
    "4\n",
    "\\end{matrix}\n",
    "\\end{pmatrix}$$"
   ]
  },
  {
   "cell_type": "markdown",
   "id": "4cb4572d",
   "metadata": {},
   "source": [
    "Получившаяся матрица соответствует системе:\n",
    "\n",
    "$$\\begin{cases}\n",
    "x_{1}+x_{2}-x_{3}-2x_{4}=0, \\\\\n",
    "-x_{2} + x_{3} + 5x_{4}=-2, \\\\\n",
    "-2x_{3} + 3x_{4}=4\n",
    "\\end{cases}$$"
   ]
  },
  {
   "cell_type": "markdown",
   "id": "ff08274e",
   "metadata": {},
   "source": [
    "Рассматрим в качестве свободного параметра $x_{4}=c$ и, выражая остальные переменные через $c$, получим:\n",
    "\n",
    "$$x_{4}=c,$$\n",
    "$$-2x_{3} + 3c = 4 \\; \\Leftrightarrow \\; x_{3} = (3c - 4)/2,$$\n",
    "$$-x_{2} + (3c - 4)/2 + 5c = -2 \\; \\Leftrightarrow \\; x_{2} = 13с/2$$\n",
    "$$x_{1} + 13с/2 - (3c - 4)/2 - 2c = 0 \\; \\Leftrightarrow \\; x_{1} = -3с - 2$$"
   ]
  },
  {
   "cell_type": "markdown",
   "id": "546e252d",
   "metadata": {},
   "source": [
    "Таким образом, общее решение данной системы:\n",
    "\n",
    "$$x_{4}=c,$$\n",
    "$$x_{3} = (3c - 4)/2,$$\n",
    "$$x_{2} = 13с/2$$\n",
    "$$x_{1} = -3с - 2$$"
   ]
  },
  {
   "cell_type": "markdown",
   "id": "9e68612b",
   "metadata": {},
   "source": [
    "### Задача 2"
   ]
  },
  {
   "cell_type": "markdown",
   "id": "b43f1458",
   "metadata": {},
   "source": [
    "_**Условие:**_"
   ]
  },
  {
   "cell_type": "markdown",
   "id": "d89bb6bd",
   "metadata": {},
   "source": [
    "Проверьте на совместность и выясните, сколько решений будет иметь система линейных уравнений:\n",
    "\n",
    "   а) $\\begin{cases}\n",
    "3x_{1}-x_{2}+x_{3}=4, \\\\\n",
    "2x_{1}-5x_{2}-3x_{3}=-17, \\\\\n",
    "x_{1}+x_{2}-x_{3}=0;\n",
    "\\end{cases}$\n",
    "    \n",
    "   б) $\\begin{cases}\n",
    "2x_{1}-4x_{2}+6x_{3}=1, \\\\\n",
    "x_{1}-2x_{2}+3x_{3}=-2, \\\\\n",
    "3x_{1}-6x_{2}+9x_{3}=5;\n",
    "\\end{cases}$\n",
    "    \n",
    "   в) $\\begin{cases}\n",
    "x_{1}+2x_{2}+5x_{3}=4, \\\\\n",
    "3x_{1}+x_{2}-8x_{3}=-2. \n",
    "\\end{cases}$"
   ]
  },
  {
   "cell_type": "markdown",
   "id": "f6a65c58",
   "metadata": {},
   "source": [
    "_**Решение:**_"
   ]
  },
  {
   "cell_type": "markdown",
   "id": "8fab4afa",
   "metadata": {},
   "source": [
    "_**a)**_"
   ]
  },
  {
   "cell_type": "markdown",
   "id": "d9d3681b",
   "metadata": {},
   "source": [
    "$\\begin{cases}\n",
    "3x_{1}-x_{2}+x_{3}=4, \\\\\n",
    "2x_{1}-5x_{2}-3x_{3}=-17, \\\\\n",
    "x_{1}+x_{2}-x_{3}=0;\n",
    "\\end{cases}$"
   ]
  },
  {
   "cell_type": "markdown",
   "id": "921591a3",
   "metadata": {},
   "source": [
    "Для данной системы уравнений расширенная матрица $\\tilde A$:\n",
    "\n",
    "$$\\begin{pmatrix}\n",
    "\\left.\\begin{matrix}\n",
    "3 & -1 & 1\\\\ \n",
    "2 & -5 & -3\\\\ \n",
    "1 & 1 & -1\n",
    "\\end{matrix}\\right|\n",
    "\\begin{matrix}\n",
    "4\\\\ \n",
    "-17\\\\\n",
    "0\n",
    "\\end{matrix}\n",
    "\\end{pmatrix}$$"
   ]
  },
  {
   "cell_type": "code",
   "execution_count": 1,
   "id": "243db76d",
   "metadata": {},
   "outputs": [
    {
     "name": "stdout",
     "output_type": "stream",
     "text": [
      "Матрица A:\n",
      "[[ 3 -1  1]\n",
      " [ 2 -5 -3]\n",
      " [ 1  1 -1]]\n",
      "Матрица A_tilda:\n",
      "[[  3  -1   1   4]\n",
      " [  2  -5  -3 -17]\n",
      " [  1   1  -1   0]]\n",
      "Ранг A:\n",
      "3\n",
      "Ранг A_tilda:\n",
      "3\n"
     ]
    }
   ],
   "source": [
    "import numpy as np\n",
    "\n",
    "A = np.array([[3, -1, 1], [2, -5, -3], [1, 1, -1]])\n",
    "A_tilda = np.array([[3, -1, 1, 4], [2, -5, -3, -17], [1, 1, -1, 0]])\n",
    "print(f'Матрица A:\\n{A}')\n",
    "print(f'Матрица A_tilda:\\n{A_tilda}')\n",
    "print(f'Ранг A:\\n{np.linalg.matrix_rank(A)}')\n",
    "print(f'Ранг A_tilda:\\n{np.linalg.matrix_rank(A_tilda)}')"
   ]
  },
  {
   "cell_type": "markdown",
   "id": "f8543b52",
   "metadata": {},
   "source": [
    "Число неизвестных $n = 3$, таким образом, $rankA = rank \\tilde A = n = 3$, из чего следует, что данная система уравнений - совместная и определенная, то есть имеет единственное решение."
   ]
  },
  {
   "cell_type": "markdown",
   "id": "652d0671",
   "metadata": {},
   "source": [
    "_**б)**_"
   ]
  },
  {
   "cell_type": "markdown",
   "id": "60345c9a",
   "metadata": {},
   "source": [
    "$\\begin{cases}\n",
    "2x_{1}-4x_{2}+6x_{3}=1, \\\\\n",
    "x_{1}-2x_{2}+3x_{3}=-2, \\\\\n",
    "3x_{1}-6x_{2}+9x_{3}=5;\n",
    "\\end{cases}$"
   ]
  },
  {
   "cell_type": "markdown",
   "id": "4ff5b607",
   "metadata": {},
   "source": [
    "Для данной системы уравнений расширенная матрица $\\tilde B$:\n",
    "\n",
    "$$\\begin{pmatrix}\n",
    "\\left.\\begin{matrix}\n",
    "2 & -4 & 6\\\\ \n",
    "1 & -2 & 3\\\\ \n",
    "3 & -6 & 9\n",
    "\\end{matrix}\\right|\n",
    "\\begin{matrix}\n",
    "1\\\\ \n",
    "-2\\\\\n",
    "5\n",
    "\\end{matrix}\n",
    "\\end{pmatrix}$$"
   ]
  },
  {
   "cell_type": "code",
   "execution_count": 2,
   "id": "63bf8833",
   "metadata": {},
   "outputs": [
    {
     "name": "stdout",
     "output_type": "stream",
     "text": [
      "Матрица B:\n",
      "[[ 2 -4  6]\n",
      " [ 1 -2  3]\n",
      " [ 3 -6  9]]\n",
      "Матрица B_tilda:\n",
      "[[ 2 -4  6  1]\n",
      " [ 1 -2  3 -2]\n",
      " [ 3 -6  9  5]]\n",
      "Ранг B:\n",
      "1\n",
      "Ранг B_tilda:\n",
      "2\n"
     ]
    }
   ],
   "source": [
    "B = np.array([[2, -4, 6], [1, -2, 3], [3, -6, 9]])\n",
    "B_tilda = np.array([[2, -4, 6, 1], [1, -2, 3, -2], [3, -6, 9, 5]])\n",
    "print(f'Матрица B:\\n{B}')\n",
    "print(f'Матрица B_tilda:\\n{B_tilda}')\n",
    "print(f'Ранг B:\\n{np.linalg.matrix_rank(B)}')\n",
    "print(f'Ранг B_tilda:\\n{np.linalg.matrix_rank(B_tilda)}')"
   ]
  },
  {
   "cell_type": "markdown",
   "id": "0d496c6e",
   "metadata": {},
   "source": [
    "Получаем, что $rankB = 1 < rank \\tilde B  = 2$, поэтому данная система уравнений - несовместная, то есть не имеет решений."
   ]
  },
  {
   "cell_type": "markdown",
   "id": "1c665264",
   "metadata": {},
   "source": [
    "_**в)**_"
   ]
  },
  {
   "cell_type": "markdown",
   "id": "bbae3c01",
   "metadata": {},
   "source": [
    "$\\begin{cases}\n",
    "x_{1}+2x_{2}+5x_{3}=4, \\\\\n",
    "3x_{1}+x_{2}-8x_{3}=-2. \n",
    "\\end{cases}$"
   ]
  },
  {
   "cell_type": "markdown",
   "id": "a8bdcae5",
   "metadata": {},
   "source": [
    "Для данной системы уравнений расширенная матрица $\\tilde C$:\n",
    "\n",
    "$$\\begin{pmatrix}\n",
    "\\left.\\begin{matrix}\n",
    "1 & 2 & 5\\\\ \n",
    "3 & 1 & -8\n",
    "\\end{matrix}\\right|\n",
    "\\begin{matrix}\n",
    "4\\\\ \n",
    "-2\n",
    "\\end{matrix}\n",
    "\\end{pmatrix}$$"
   ]
  },
  {
   "cell_type": "code",
   "execution_count": 3,
   "id": "30566d7e",
   "metadata": {},
   "outputs": [
    {
     "name": "stdout",
     "output_type": "stream",
     "text": [
      "Матрица C:\n",
      "[[ 1  2  5]\n",
      " [ 3  1 -8]]\n",
      "Матрица C_tilda:\n",
      "[[ 1  2  5  4]\n",
      " [ 3  1 -8 -2]]\n",
      "Ранг C:\n",
      "2\n",
      "Ранг C_tilda:\n",
      "2\n"
     ]
    }
   ],
   "source": [
    "C = np.array([[1, 2, 5], [3, 1, -8]])\n",
    "C_tilda = np.array([[1, 2, 5, 4], [3, 1, -8, -2]])\n",
    "print(f'Матрица C:\\n{C}')\n",
    "print(f'Матрица C_tilda:\\n{C_tilda}')\n",
    "print(f'Ранг C:\\n{np.linalg.matrix_rank(C)}')\n",
    "print(f'Ранг C_tilda:\\n{np.linalg.matrix_rank(C_tilda)}')"
   ]
  },
  {
   "cell_type": "markdown",
   "id": "8fa431ff",
   "metadata": {},
   "source": [
    "Число неизвестных $n = 3$, таким образом, $rankA = rank \\tilde A = 2 < n = 3$, из чего следует, что данная система уравнений - совместная и неопределенная и имеет бесконечное количество решений."
   ]
  },
  {
   "cell_type": "markdown",
   "id": "1018460f",
   "metadata": {},
   "source": [
    "### Задача 3"
   ]
  },
  {
   "cell_type": "markdown",
   "id": "04fc0047",
   "metadata": {},
   "source": [
    "_**Условие:**_"
   ]
  },
  {
   "cell_type": "markdown",
   "id": "7786e0fe",
   "metadata": {},
   "source": [
    "Проверьте на совместность и выясните, сколько решений будет иметь система линейных уравнений, заданная расширенной матрицей:\n",
    "\n",
    "$$\\tilde{A}=\\begin{pmatrix}\n",
    "\\left.\\begin{matrix}\n",
    "1 & 3 & -2 & 4\\\\ \n",
    "0 & 5 & 0 & 1\\\\ \n",
    "0 & 0 & 3 & 0\\\\ \n",
    "0 & 0 & 0 & 2\n",
    "\\end{matrix}\\right|\n",
    "\\begin{matrix}\n",
    "3\\\\ \n",
    "2\\\\\n",
    "4\\\\\n",
    "1\n",
    "\\end{matrix}\n",
    "\\end{pmatrix}.$$"
   ]
  },
  {
   "cell_type": "markdown",
   "id": "8f78faa3",
   "metadata": {},
   "source": [
    "_**Решение:**_"
   ]
  },
  {
   "cell_type": "markdown",
   "id": "bda1dff2",
   "metadata": {},
   "source": [
    "Очевидно, что линейной зависимости векторов нет, поэтому $rankA = rank \\tilde A = 4$. Число неизвестных $n = 4$, таким образом, $rankA = rank \\tilde A = n = 4$, из чего следует, что данная система уравнений - совместная и определенная, то есть имеет единственное решение."
   ]
  },
  {
   "cell_type": "markdown",
   "id": "0d30f7eb",
   "metadata": {},
   "source": [
    "### Задача 4"
   ]
  },
  {
   "cell_type": "markdown",
   "id": "d902bd0e",
   "metadata": {},
   "source": [
    "_**Условие:**_"
   ]
  },
  {
   "cell_type": "markdown",
   "id": "66d3a67b",
   "metadata": {},
   "source": [
    "Дана система линейных уравнений, заданная расширенной матрицей:\n",
    "\n",
    "$$\\tilde{A}=\\begin{pmatrix}\n",
    "\\left.\\begin{matrix}\n",
    "1 & 2 & 3\\\\ \n",
    "4 & 5 & 6\\\\ \n",
    "7 & 8 & 9\n",
    "\\end{matrix}\\right|\n",
    "\\begin{matrix}\n",
    "a\\\\ \n",
    "b\\\\\n",
    "c\n",
    "\\end{matrix}\n",
    "\\end{pmatrix}$$\n",
    "\n",
    "Найдите соотношение между параметрами $a$, $b$ и $c$, при которых система считается несовместной."
   ]
  },
  {
   "cell_type": "markdown",
   "id": "03957a1d",
   "metadata": {},
   "source": [
    "_**Решение:**_"
   ]
  },
  {
   "cell_type": "markdown",
   "id": "4e943829",
   "metadata": {},
   "source": [
    "Вычтем из второй строки первую умноженную на 2, а из третьей вычтем первую умноженную на 3:\n",
    "\n",
    "$$\\tilde{A}=\\begin{pmatrix}\n",
    "\\left.\\begin{matrix}\n",
    "1 & 2 & 3\\\\ \n",
    "2 & 1 & 0\\\\ \n",
    "4 & 2 & 0\n",
    "\\end{matrix}\\right|\n",
    "\\begin{matrix}\n",
    "a\\\\ \n",
    "b-2a\\\\\n",
    "c-3a\n",
    "\\end{matrix}\n",
    "\\end{pmatrix}$$"
   ]
  },
  {
   "cell_type": "markdown",
   "id": "521f2101",
   "metadata": {},
   "source": [
    "Вычтем из третьей строки вторую умноженную на 2:\n",
    "\n",
    "$$\\tilde{A}=\\begin{pmatrix}\n",
    "\\left.\\begin{matrix}\n",
    "1 & 2 & 3\\\\ \n",
    "2 & 1 & 0\\\\ \n",
    "0 & 0 & 0\n",
    "\\end{matrix}\\right|\n",
    "\\begin{matrix}\n",
    "a\\\\ \n",
    "b-2a\\\\\n",
    "(c-3a)-2(b-2a) \\; \\Leftrightarrow \\; c-2b+a\n",
    "\\end{matrix}\n",
    "\\end{pmatrix}$$"
   ]
  },
  {
   "cell_type": "markdown",
   "id": "49d5eb97",
   "metadata": {},
   "source": [
    "Если $с - 2b + a \\neq 0$, то система не имеет решений и является несовместной. В противном случае одну из неизвестных можно выразить через свободный параметр и, следовательно, система имеет бесконечное множество решений."
   ]
  },
  {
   "cell_type": "markdown",
   "id": "1c6be801",
   "metadata": {},
   "source": [
    "## Системы линейных уравнений. Часть 2"
   ]
  },
  {
   "cell_type": "markdown",
   "id": "971de9ad",
   "metadata": {},
   "source": [
    "### Задача 1"
   ]
  },
  {
   "cell_type": "markdown",
   "id": "0ea70948",
   "metadata": {},
   "source": [
    "_**Условие:**_"
   ]
  },
  {
   "cell_type": "markdown",
   "id": "17fcfbe6",
   "metadata": {},
   "source": [
    "Решите систему уравнений методом Крамера:\n",
    "\n",
    "   а) $\\begin{cases}\n",
    "x_{1}-2x_{2}=1 \\\\\n",
    "3x_{1}-4x_{2}=7\n",
    "\\end{cases}$\n",
    "    \n",
    "   б) $\\begin{cases}\n",
    "2x_{1}-x_{2}+5x_{3}=10 \\\\\n",
    "x_{1}+x_{2}-3x_{3}=-2 \\\\\n",
    "2x_{1}+4x_{2}+x_{3}=1\n",
    "\\end{cases}$"
   ]
  },
  {
   "cell_type": "markdown",
   "id": "e74d890a",
   "metadata": {},
   "source": [
    "_**Решение:**_"
   ]
  },
  {
   "cell_type": "markdown",
   "id": "cf087190",
   "metadata": {},
   "source": [
    "_**a)**_"
   ]
  },
  {
   "cell_type": "markdown",
   "id": "066f091e",
   "metadata": {},
   "source": [
    "$\\begin{cases}\n",
    "x_{1}-2x_{2}=1 \\\\\n",
    "3x_{1}-4x_{2}=7\n",
    "\\end{cases}$"
   ]
  },
  {
   "cell_type": "markdown",
   "id": "6a985e06",
   "metadata": {},
   "source": [
    "Для данной системы уравнений расширенная матрица $\\tilde A$:\n",
    "\n",
    "$$\\begin{pmatrix}\n",
    "\\left.\\begin{matrix}\n",
    "1 & -2\\\\ \n",
    "3 & -4\n",
    "\\end{matrix}\\right|\n",
    "\\begin{matrix}\n",
    "1\\\\ \n",
    "7\n",
    "\\end{matrix}\n",
    "\\end{pmatrix}$$"
   ]
  },
  {
   "cell_type": "markdown",
   "id": "2cbbf848",
   "metadata": {},
   "source": [
    "Найдём определитель матрицы коэффициентов $A$:"
   ]
  },
  {
   "cell_type": "code",
   "execution_count": 4,
   "id": "adc31d7f",
   "metadata": {},
   "outputs": [
    {
     "name": "stdout",
     "output_type": "stream",
     "text": [
      "Матрица A:\n",
      "[[ 1 -2]\n",
      " [ 3 -4]]\n",
      "det A:\n",
      "2.0\n"
     ]
    }
   ],
   "source": [
    "A = np.array([[1, -2], [3, -4]])\n",
    "\n",
    "print(f'Матрица A:\\n{A}')\n",
    "print(f'det A:\\n{np.linalg.det(A):.1f}')"
   ]
  },
  {
   "cell_type": "markdown",
   "id": "2fbec5ae",
   "metadata": {},
   "source": [
    "$DetA \\neq 0$ следовательно, система совместна. Найдём определители $detA_{1}$, $detA_{2}$:"
   ]
  },
  {
   "cell_type": "code",
   "execution_count": 5,
   "id": "e143ab4a",
   "metadata": {},
   "outputs": [
    {
     "name": "stdout",
     "output_type": "stream",
     "text": [
      "Матрица A_1:\n",
      "[[ 1 -2]\n",
      " [ 7 -4]]\n",
      "det A_1:\n",
      "10.0\n"
     ]
    }
   ],
   "source": [
    "A_1 = np.array([[1, -2], [7, -4]])\n",
    "\n",
    "print(f'Матрица A_1:\\n{A_1}')\n",
    "print(f'det A_1:\\n{np.linalg.det(A_1):.1f}')"
   ]
  },
  {
   "cell_type": "code",
   "execution_count": 6,
   "id": "c51b1f38",
   "metadata": {},
   "outputs": [
    {
     "name": "stdout",
     "output_type": "stream",
     "text": [
      "Матрица A_2:\n",
      "[[1 1]\n",
      " [3 7]]\n",
      "det A_2:\n",
      "4.0\n"
     ]
    }
   ],
   "source": [
    "A_2 = np.array([[1, 1], [3, 7]])\n",
    "\n",
    "print(f'Матрица A_2:\\n{A_2}')\n",
    "print(f'det A_2:\\n{np.linalg.det(A_2):.1f}')"
   ]
  },
  {
   "cell_type": "markdown",
   "id": "3222fc5a",
   "metadata": {},
   "source": [
    "Находим решение по формулам Крамера:"
   ]
  },
  {
   "cell_type": "markdown",
   "id": "cdfb5849",
   "metadata": {},
   "source": [
    "$$x_{1} = \\frac{detA_{1}}{detA} = \\frac{10}{2}=5$$\n",
    "\n",
    "$$x_{2} = \\frac{detA_{2}}{detA} = \\frac{4}{2}=2$$"
   ]
  },
  {
   "cell_type": "markdown",
   "id": "71f6036d",
   "metadata": {},
   "source": [
    "_**б)**_"
   ]
  },
  {
   "cell_type": "markdown",
   "id": "2dd759ee",
   "metadata": {},
   "source": [
    "$\\begin{cases}\n",
    "2x_{1}-x_{2}+5x_{3}=10 \\\\\n",
    "x_{1}+x_{2}-3x_{3}=-2 \\\\\n",
    "2x_{1}+4x_{2}+x_{3}=1\n",
    "\\end{cases}$"
   ]
  },
  {
   "cell_type": "markdown",
   "id": "df9ea2f8",
   "metadata": {},
   "source": [
    "Для данной системы уравнений расширенная матрица $\\tilde B$:\n",
    "\n",
    "$$\\begin{pmatrix}\n",
    "\\left.\\begin{matrix}\n",
    "2 & -1 & 5\\\\ \n",
    "1 & 1 & -3\\\\\n",
    "2 & 4 & 1\n",
    "\\end{matrix}\\right|\n",
    "\\begin{matrix}\n",
    "10\\\\ \n",
    "-2\\\\\n",
    "1\n",
    "\\end{matrix}\n",
    "\\end{pmatrix}$$"
   ]
  },
  {
   "cell_type": "markdown",
   "id": "a775673a",
   "metadata": {},
   "source": [
    "Найдём определитель матрицы коэффициентов $B$:"
   ]
  },
  {
   "cell_type": "code",
   "execution_count": 7,
   "id": "d18f2fbc",
   "metadata": {},
   "outputs": [
    {
     "name": "stdout",
     "output_type": "stream",
     "text": [
      "Матрица B:\n",
      "[[ 2 -1  5]\n",
      " [ 1  1 -3]\n",
      " [ 2  4  1]]\n",
      "det B:\n",
      "43.0\n"
     ]
    }
   ],
   "source": [
    "B = np.array([[2, -1, 5], [1, 1, -3], [2, 4, 1]])\n",
    "\n",
    "print(f'Матрица B:\\n{B}')\n",
    "print(f'det B:\\n{np.linalg.det(B):.1f}')"
   ]
  },
  {
   "cell_type": "markdown",
   "id": "8550e0b8",
   "metadata": {},
   "source": [
    "$DetB \\neq 0$ следовательно, система совместна. Найдём определители $detB_{1}$, $detB_{2}$, $detB_{3}$:"
   ]
  },
  {
   "cell_type": "code",
   "execution_count": 8,
   "id": "72eed548",
   "metadata": {},
   "outputs": [
    {
     "name": "stdout",
     "output_type": "stream",
     "text": [
      "Матрица B_1:\n",
      "[[10 -1  5]\n",
      " [-2  1 -3]\n",
      " [ 1  4  1]]\n",
      "det B_1:\n",
      "86.0\n"
     ]
    }
   ],
   "source": [
    "B_1 = np.array([[10, -1, 5], [-2, 1, -3], [1, 4, 1]])\n",
    "\n",
    "print(f'Матрица B_1:\\n{B_1}')\n",
    "print(f'det B_1:\\n{np.linalg.det(B_1):.1f}')"
   ]
  },
  {
   "cell_type": "code",
   "execution_count": 9,
   "id": "876072ba",
   "metadata": {},
   "outputs": [
    {
     "name": "stdout",
     "output_type": "stream",
     "text": [
      "Матрица B_2:\n",
      "[[ 2 10  5]\n",
      " [ 1 -2 -3]\n",
      " [ 2  1  1]]\n",
      "det B_2:\n",
      "-43.0\n"
     ]
    }
   ],
   "source": [
    "B_2 = np.array([[2, 10, 5], [1, -2, -3], [2, 1, 1]])\n",
    "\n",
    "print(f'Матрица B_2:\\n{B_2}')\n",
    "print(f'det B_2:\\n{np.linalg.det(B_2):.1f}')"
   ]
  },
  {
   "cell_type": "code",
   "execution_count": 10,
   "id": "ad3ccff4",
   "metadata": {},
   "outputs": [
    {
     "name": "stdout",
     "output_type": "stream",
     "text": [
      "Матрица B_3:\n",
      "[[ 2 -1 10]\n",
      " [ 1  1 -2]\n",
      " [ 2  4  1]]\n",
      "det B_3:\n",
      "43.0\n"
     ]
    }
   ],
   "source": [
    "B_3 = np.array([[2, -1, 10], [1, 1, -2], [2, 4, 1]])\n",
    "\n",
    "print(f'Матрица B_3:\\n{B_3}')\n",
    "print(f'det B_3:\\n{np.linalg.det(B_3):.1f}')"
   ]
  },
  {
   "cell_type": "markdown",
   "id": "5e85ef87",
   "metadata": {},
   "source": [
    "$$x_{1} = \\frac{detB_{1}}{detB} = \\frac{86}{43}=2$$\n",
    "\n",
    "$$x_{2} = \\frac{detB_{2}}{detB} = \\frac{-43}{43}=-1$$\n",
    "\n",
    "$$x_{3} = \\frac{detB_{3}}{detB} = \\frac{43}{43}=1$$"
   ]
  },
  {
   "cell_type": "markdown",
   "id": "ff8e53a9",
   "metadata": {},
   "source": [
    "### Задача 2"
   ]
  },
  {
   "cell_type": "markdown",
   "id": "e98e3f6c",
   "metadata": {},
   "source": [
    "_**Условие:**_"
   ]
  },
  {
   "cell_type": "markdown",
   "id": "3a1f515d",
   "metadata": {},
   "source": [
    "Найдите $L$-матрицу $LU$-разложения для матрицы коэффициентов:\n",
    "\n",
    "   а)$$\\begin{pmatrix}\n",
    "1 & 2 & 4 \\\\ \n",
    "2 & 9 & 12 \\\\ \n",
    "3 & 26 & 30\n",
    "\\end{pmatrix}$$\n",
    "    \n",
    "   б)$$\\begin{pmatrix}\n",
    "1 & 1 & 2 & 4\\\\ \n",
    "2 & 5 & 8 & 9\\\\ \n",
    "3 & 18 & 29 & 18\\\\\n",
    "4 & 22 & 53 & 33\n",
    "\\end{pmatrix}$$"
   ]
  },
  {
   "cell_type": "markdown",
   "id": "aa43067b",
   "metadata": {},
   "source": [
    "_**Решение:**_"
   ]
  },
  {
   "cell_type": "markdown",
   "id": "f31b12a0",
   "metadata": {},
   "source": [
    "_**a)**_"
   ]
  },
  {
   "cell_type": "markdown",
   "id": "7915fb02",
   "metadata": {},
   "source": [
    "Исходная матрица $A$:\n",
    "$\\begin{pmatrix}\n",
    "1 & 2 & 4 \\\\ \n",
    "2 & 9 & 12 \\\\ \n",
    "3 & 26 & 30\n",
    "\\end{pmatrix}$\n",
    "\n",
    "Матрица $L_{a}$:\n",
    "$\\begin{pmatrix}\n",
    "1 & 0 & 0 \\\\ \n",
    "l_{21} & 1 & 0 \\\\ \n",
    "l_{31} & l_{32} & 1\n",
    "\\end{pmatrix}$"
   ]
  },
  {
   "cell_type": "markdown",
   "id": "4c3a26c7",
   "metadata": {},
   "source": [
    "- $l_{21}$ определяется путем умножения 1-ой строки на 2\n",
    "- $l_{31}$ определяется путем умножения 1-ой строки на 3\n",
    "\n",
    "Таким образом $l_{21} = 2$, $l_{31} = 3$, а получившаяся матрица $U_{a}$ после преобразований будет иметь вид:\n",
    "\n",
    "$$\\begin{pmatrix}\n",
    "1 & 2 & 4 \\\\ \n",
    "0 & 5 & 4 \\\\ \n",
    "0 & 20 & 18\n",
    "\\end{pmatrix}$$"
   ]
  },
  {
   "cell_type": "markdown",
   "id": "c08271a2",
   "metadata": {},
   "source": [
    "$l_{32}$ определяется путем умножения 2-ой строки на 4.\n",
    "\n",
    "Таким образом $l_{32} = 4$ и:\n",
    "\n",
    "$L_{a} =$ \n",
    "$\\begin{pmatrix}\n",
    "1 & 0 & 0 \\\\ \n",
    "2 & 1 & 0 \\\\ \n",
    "3 & 4 & 1\n",
    "\\end{pmatrix}$\n",
    "\n",
    "$U_{a} =$\n",
    "$\\begin{pmatrix}\n",
    "1 & 2 & 4 \\\\ \n",
    "0 & 5 & 4 \\\\ \n",
    "0 & 0 & 2\n",
    "\\end{pmatrix}$"
   ]
  },
  {
   "cell_type": "markdown",
   "id": "8f973de8",
   "metadata": {},
   "source": [
    "Проверим с помощью `numpy`:"
   ]
  },
  {
   "cell_type": "code",
   "execution_count": 11,
   "id": "fcb7f351",
   "metadata": {},
   "outputs": [
    {
     "name": "stdout",
     "output_type": "stream",
     "text": [
      "Матрица L_a\n",
      "[[1 0 0]\n",
      " [2 1 0]\n",
      " [3 4 1]]\n",
      "\n",
      "Матрица U_a\n",
      "[[1 2 4]\n",
      " [0 5 4]\n",
      " [0 0 2]]\n",
      "\n",
      "Матрица A = L_a * U_a\n",
      "[[ 1  2  4]\n",
      " [ 2  9 12]\n",
      " [ 3 26 30]]\n"
     ]
    }
   ],
   "source": [
    "L_a = np.array([[1, 0, 0], [2, 1, 0], [3, 4, 1]])\n",
    "U_a = np.array([[1, 2, 4], [0, 5, 4], [0, 0, 2]])\n",
    "\n",
    "print(f'Матрица L_a\\n{L_a}\\n')\n",
    "print(f'Матрица U_a\\n{U_a}\\n')\n",
    "print(f'Матрица A = L_a * U_a\\n{np.dot(L_a, U_a)}')"
   ]
  },
  {
   "cell_type": "markdown",
   "id": "69c037d3",
   "metadata": {},
   "source": [
    "_**б)**_"
   ]
  },
  {
   "cell_type": "markdown",
   "id": "a197d1f1",
   "metadata": {},
   "source": [
    "Исходная матрица $B$:\n",
    "$\\begin{pmatrix}\n",
    "1 & 1 & 2 & 4\\\\ \n",
    "2 & 5 & 8 & 9\\\\ \n",
    "3 & 18 & 29 & 18\\\\\n",
    "4 & 22 & 53 & 33\n",
    "\\end{pmatrix}$\n",
    "\n",
    "Матрица $L_{b}$:\n",
    "$\\begin{pmatrix}\n",
    "1 & 0 & 0 & 0\\\\ \n",
    "l_{21} & 1 & 0 & 0\\\\ \n",
    "l_{31} & l_{32} & 1 & 0\\\\\n",
    "l_{41} & l_{42} & l_{43} & 1\n",
    "\\end{pmatrix}$"
   ]
  },
  {
   "cell_type": "markdown",
   "id": "17721595",
   "metadata": {},
   "source": [
    "- $l_{21}$ определяется путем умножения 1-ой строки на 2\n",
    "- $l_{31}$ определяется путем умножения 1-ой строки на 3\n",
    "- $l_{41}$ определяется путем умножения 1-ой строки на 4\n",
    "\n",
    "Таким образом $l_{21} = 2$, $l_{31} = 3$, $l_{41} = 4$, а получившаяся матрица $U_{b}$ после преобразований будет иметь вид:\n",
    "\n",
    "$$\\begin{pmatrix}\n",
    "1 & 1 & 2 & 4\\\\ \n",
    "0 & 3 & 4 & 1\\\\ \n",
    "0 & 15 & 23 & 6\\\\\n",
    "0 & 18 & 45 & 17\n",
    "\\end{pmatrix}$$"
   ]
  },
  {
   "cell_type": "markdown",
   "id": "5be673ac",
   "metadata": {},
   "source": [
    "- $l_{32}$ определяется путем умножения 2-ой строки на 5\n",
    "- $l_{42}$ определяется путем умножения 2-ой строки на 6\n",
    "\n",
    "Таким образом $l_{32} = 5$, $l_{42} = 6$, а получившаяся матрица $U_{b}$ после преобразований будет иметь вид:\n",
    "\n",
    "$$\\begin{pmatrix}\n",
    "1 & 1 & 2 & 4\\\\ \n",
    "0 & 3 & 4 & 1\\\\ \n",
    "0 & 0 & 3 & 1\\\\\n",
    "0 & 0 & 21 & 11\n",
    "\\end{pmatrix}$$"
   ]
  },
  {
   "cell_type": "markdown",
   "id": "2a0e6e21",
   "metadata": {},
   "source": [
    "$l_{43}$ определяется путем умножения 3-ей строки на 7\n",
    "\n",
    "Таким образом $l_{43} = 7$ и:\n",
    "\n",
    "$L_{b} =$ \n",
    "$\\begin{pmatrix}\n",
    "1 & 0 & 0 & 0\\\\ \n",
    "2 & 1 & 0 & 0\\\\ \n",
    "3 & 5 & 1 & 0\\\\\n",
    "4 & 6 & 7 & 1\n",
    "\\end{pmatrix}$\n",
    "\n",
    "$U_{b} =$\n",
    "$\\begin{pmatrix}\n",
    "1 & 1 & 2 & 4\\\\ \n",
    "0 & 3 & 4 & 1\\\\ \n",
    "0 & 0 & 3 & 1\\\\\n",
    "0 & 0 & 0 & 4\n",
    "\\end{pmatrix}$"
   ]
  },
  {
   "cell_type": "markdown",
   "id": "c8b01472",
   "metadata": {},
   "source": [
    "Проверим с помощью `numpy`:"
   ]
  },
  {
   "cell_type": "code",
   "execution_count": 12,
   "id": "2c86cd5f",
   "metadata": {},
   "outputs": [
    {
     "name": "stdout",
     "output_type": "stream",
     "text": [
      "Матрица L_b\n",
      "[[1 0 0 0]\n",
      " [2 1 0 0]\n",
      " [3 5 1 0]\n",
      " [4 6 7 1]]\n",
      "\n",
      "Матрица U_b\n",
      "[[1 1 2 4]\n",
      " [0 3 4 1]\n",
      " [0 0 3 1]\n",
      " [0 0 0 4]]\n",
      "\n",
      "Матрица B = L_b * U_b\n",
      "[[ 1  1  2  4]\n",
      " [ 2  5  8  9]\n",
      " [ 3 18 29 18]\n",
      " [ 4 22 53 33]]\n"
     ]
    }
   ],
   "source": [
    "L_b = np.array([[1, 0, 0, 0], [2, 1, 0, 0], [3, 5, 1, 0], [4, 6, 7, 1]])\n",
    "U_b = np.array([[1, 1, 2, 4], [0, 3, 4, 1], [0, 0, 3, 1], [0, 0, 0, 4]])\n",
    "\n",
    "print(f'Матрица L_b\\n{L_b}\\n')\n",
    "print(f'Матрица U_b\\n{U_b}\\n')\n",
    "print(f'Матрица B = L_b * U_b\\n{np.dot(L_b, U_b)}')"
   ]
  },
  {
   "cell_type": "markdown",
   "id": "78eb8c59",
   "metadata": {},
   "source": [
    "### Задача 3"
   ]
  },
  {
   "cell_type": "markdown",
   "id": "a965c8f8",
   "metadata": {},
   "source": [
    "_**Условие:**_"
   ]
  },
  {
   "cell_type": "markdown",
   "id": "80cd28a7",
   "metadata": {},
   "source": [
    "Решите систему линейных уравнений методом $LU$-разложения:\n",
    "\n",
    "$$\\begin{cases}\n",
    "2x_{1}+x_{2}+3x_{3}=1 \\\\\n",
    "11x_{1}+7x_{2}+5x_{3}=-6 \\\\\n",
    "9x_{1}+8x_{2}+4x_{3}=-5\n",
    "\\end{cases}$$"
   ]
  },
  {
   "cell_type": "markdown",
   "id": "273110fc",
   "metadata": {},
   "source": [
    "_**Решение:**_"
   ]
  },
  {
   "cell_type": "markdown",
   "id": "f029d939",
   "metadata": {},
   "source": [
    "Матрица коэффициентов $A$:\n",
    "$\\begin{pmatrix}\n",
    "2 & 1 & 3\\\\ \n",
    "11 & 7 & 5\\\\ \n",
    "9 & 8 & 4\n",
    "\\end{pmatrix}$\n",
    "\n",
    "Матрица $L$:\n",
    "$\\begin{pmatrix}\n",
    "1 & 0 & 0 \\\\ \n",
    "l_{21} & 1 & 0 \\\\ \n",
    "l_{31} & l_{32} & 1\n",
    "\\end{pmatrix}$"
   ]
  },
  {
   "cell_type": "markdown",
   "id": "3ad98b1e",
   "metadata": {},
   "source": [
    "- $l_{21}$ определяется путем умножения 1-ой строки на 11/2\n",
    "- $l_{31}$ определяется путем умножения 1-ой строки на 9/2\n",
    "\n",
    "Таким образом $l_{21} = 11/2$, $l_{31} = 9/2$, а получившаяся матрица $U$ после преобразований будет иметь вид:\n",
    "\n",
    "$\\begin{pmatrix}\n",
    "2 & 1 & 3 \\\\ \n",
    "0 & 3/2 & -23/2 \\\\ \n",
    "0 & 7/2 & -19/2\n",
    "\\end{pmatrix}$"
   ]
  },
  {
   "cell_type": "markdown",
   "id": "e9183b18",
   "metadata": {},
   "source": [
    "$l_{32}$ определяется путем умножения 2-ой строки на 7/3.\n",
    "\n",
    "Таким образом $l_{32} = 7/3$ и:\n",
    "\n",
    "$L =$ \n",
    "$\\begin{pmatrix}\n",
    "1 & 0 & 0 \\\\ \n",
    "11/2 & 1 & 0 \\\\ \n",
    "9/2 & 7/3 & 1\n",
    "\\end{pmatrix}$\n",
    "\n",
    "$U =$\n",
    "$\\begin{pmatrix}\n",
    "2 & 1 & 3 \\\\ \n",
    "0 & 3/2 & -23/2 \\\\ \n",
    "0 & 0 & 52/3\n",
    "\\end{pmatrix}$"
   ]
  },
  {
   "cell_type": "markdown",
   "id": "4eaeb0ec",
   "metadata": {},
   "source": [
    "Решаем систему $Ly=b$:\n",
    "\n",
    "$\\begin{cases}\n",
    "y_{1}=1 \\\\\n",
    "11/2y_{1}+y_{2}=-6 \\\\\n",
    "9/2y_{1}+7/3y_{2}+y_{3}=-5\n",
    "\\end{cases}$\n",
    "\n",
    "$y_{1}=1$, $y_{2}=-23/2$, $y_{3}=52/3$"
   ]
  },
  {
   "cell_type": "markdown",
   "id": "c87c6af9",
   "metadata": {},
   "source": [
    "Решаем систему $Ux=y$:\n",
    "\n",
    "$\\begin{cases}\n",
    "2x_{1}+x_{2}+3x_{3}=1 \\\\\n",
    "3/2x_{2}-23/2x_{3}=-23/2 \\\\\n",
    "52/3x_{3}=52/3\n",
    "\\end{cases}$\n",
    "\n",
    "$x_{3}=1$, $x_{2}=0$, $x_{1}=-1$"
   ]
  },
  {
   "cell_type": "markdown",
   "id": "892413a6",
   "metadata": {},
   "source": [
    "Произведём проверку, подставив полученные значения переменных в исходную систему:\n",
    "\n",
    "$\\begin{cases}\n",
    "2\\cdot(-1)+0+3\\cdot 1=1 \\\\\n",
    "11\\cdot(-1)+7\\cdot 0+5\\cdot 1=-6 \\\\\n",
    "9\\cdot(-1)+8\\cdot 0+4\\cdot 1=-5\n",
    "\\end{cases}$\n",
    "\n",
    "Таким образом, найденное решение верно."
   ]
  },
  {
   "cell_type": "markdown",
   "id": "117f9cf5",
   "metadata": {},
   "source": [
    "### Задача 4"
   ]
  },
  {
   "cell_type": "markdown",
   "id": "9e6d7998",
   "metadata": {},
   "source": [
    "_**Условие:**_"
   ]
  },
  {
   "cell_type": "markdown",
   "id": "b7b65878",
   "metadata": {},
   "source": [
    "Решите систему линейных уравнений методом Холецкого:\n",
    "\n",
    "$$\\begin{cases}\n",
    "81x_{1}-45x_{2}+45x_{3}=531 \\\\\n",
    "-45x_{1}+50x_{2}-15x_{3}=-460 \\\\\n",
    "45x_{1}-15x_{2}+38x_{3}=193\n",
    "\\end{cases}$$"
   ]
  },
  {
   "cell_type": "markdown",
   "id": "b45f735b",
   "metadata": {},
   "source": [
    "_**Решение:**_"
   ]
  },
  {
   "cell_type": "markdown",
   "id": "1d09e9d8",
   "metadata": {},
   "source": [
    "Производим разложение на $LL^{T}$:\n",
    "\n",
    "$$l_{11}=\\sqrt{a_{11}}=\\sqrt{81}=9$$\n",
    "$$l_{21}=\\frac{a_{21}}{l_{11}}=\\frac{-45}{9}=-5$$\n",
    "$$l_{31}=\\frac{a_{31}}{l_{11}}=\\frac{45}{9}=5$$\n",
    "\n",
    "$$l_{22}=\\sqrt{a_{22}-l_{21}^{2}}=\\sqrt{50 - ({-5})^{2}}=5$$\n",
    "$$l_{32}=\\frac{1}{l_{22}}\\left ( a_{32}-l_{21}l_{31} \\right)=\\frac{1}{5}\\left ( -15 - (-5)\\cdot 5 \\right )=2$$\n",
    "\n",
    "$$l_{33}=\\sqrt{a_{33}-l_{31}^{2}-l_{32}^{2}}=\\sqrt{38-{5}^{2}-{2}^{2}}=3$$"
   ]
  },
  {
   "cell_type": "markdown",
   "id": "fc2b86d0",
   "metadata": {},
   "source": [
    "Получаем:\n",
    "\n",
    "$$L = \\begin{pmatrix}\n",
    "9 & 0 & 0 \\\\ \n",
    "-5 & 5 & 0 \\\\ \n",
    "5 & 2 & 3\n",
    "\\end{pmatrix}, \n",
    "\\; \\; \n",
    "L^{T} = \\begin{pmatrix}\n",
    "9 & -5 & 5 \\\\ \n",
    "0 & 5 & 2 \\\\ \n",
    "0 & 0 & 3\n",
    "\\end{pmatrix}.$$"
   ]
  },
  {
   "cell_type": "markdown",
   "id": "d05db0b6",
   "metadata": {},
   "source": [
    "Решаем систему $Ly=b$:\n",
    "\n",
    "$$\\begin{cases}\n",
    "9y_{1}=531 \\\\\n",
    "-5y_{1}+5y_{2}=-460 \\\\\n",
    "5y_{1}+2y_{2}+3y_{3}=193\n",
    "\\end{cases}$$\n",
    "\n",
    "$$y_{1} = 59$$\n",
    "\n",
    "$$y_{2}=-33$$\n",
    "\n",
    "$$y_{3}=-12$$"
   ]
  },
  {
   "cell_type": "markdown",
   "id": "c61eb0f9",
   "metadata": {},
   "source": [
    "Решаем систему $L^{T}x=y$:\n",
    "\n",
    "$$\\begin{cases}\n",
    "9x_{1}-5x_{2}+5x_{3}=59 \\\\\n",
    "5x_{2}+2x_{3}=-33 \\\\\n",
    "3x_{3}=-12\n",
    "\\end{cases}$$\n",
    "\n",
    "$$x_{3}=-4$$\n",
    "\n",
    "$$x_{2}=-5$$\n",
    "\n",
    "$$x_{1}=6$$"
   ]
  },
  {
   "cell_type": "markdown",
   "id": "5b25c021",
   "metadata": {},
   "source": [
    "Произведём проверку, подставив полученные значения переменных в исходную систему:\n",
    "\n",
    "$\\begin{cases}\n",
    "81\\cdot 6-45\\cdot(-5)+45\\cdot(-4)=531 \\\\\n",
    "-45\\cdot 6+50\\cdot(-5)-15\\cdot(-4)=-460 \\\\\n",
    "45\\cdot 6-15\\cdot(-5)+38\\cdot(-4)=193\n",
    "\\end{cases}$\n",
    "\n",
    "Таким образом, найденное решение верно."
   ]
  },
  {
   "cell_type": "code",
   "execution_count": null,
   "id": "7256abea",
   "metadata": {},
   "outputs": [],
   "source": []
  }
 ],
 "metadata": {
  "kernelspec": {
   "display_name": "Python 3 (ipykernel)",
   "language": "python",
   "name": "python3"
  },
  "language_info": {
   "codemirror_mode": {
    "name": "ipython",
    "version": 3
   },
   "file_extension": ".py",
   "mimetype": "text/x-python",
   "name": "python",
   "nbconvert_exporter": "python",
   "pygments_lexer": "ipython3",
   "version": "3.9.12"
  }
 },
 "nbformat": 4,
 "nbformat_minor": 5
}
