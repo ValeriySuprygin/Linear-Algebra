{
 "cells": [
  {
   "cell_type": "markdown",
   "id": "708f5347",
   "metadata": {},
   "source": [
    "## Практическое задание №3."
   ]
  },
  {
   "cell_type": "markdown",
   "id": "7a3d4b57",
   "metadata": {},
   "source": [
    "## Линейные преобразования"
   ]
  },
  {
   "cell_type": "markdown",
   "id": "49bd0e78",
   "metadata": {},
   "source": [
    "### Задача 1"
   ]
  },
  {
   "cell_type": "markdown",
   "id": "45ce4b7f",
   "metadata": {},
   "source": [
    "_**Условие:**_"
   ]
  },
  {
   "cell_type": "markdown",
   "id": "3103ff0f",
   "metadata": {},
   "source": [
    "Найдите собственные векторы и собственные значения для линейного оператора, заданного матрицей:\n",
    "\n",
    "$$A=\\begin{pmatrix}\n",
    "-1 & -6\\\\ \n",
    "2 & 6\n",
    "\\end{pmatrix}.$$"
   ]
  },
  {
   "cell_type": "markdown",
   "id": "adb6cf87",
   "metadata": {},
   "source": [
    "_**Решение:**_"
   ]
  },
  {
   "cell_type": "markdown",
   "id": "9f8dbe6c",
   "metadata": {},
   "source": [
    "Для нахождения собственных значений $\\lambda$ оператора $\\textbf{A}$ применим характеристическое уравнение:"
   ]
  },
  {
   "cell_type": "markdown",
   "id": "ef7a0749",
   "metadata": {},
   "source": [
    "$$det(\\begin{pmatrix}\n",
    "-1 & -6\\\\ \n",
    "2 & 6\n",
    "\\end{pmatrix} - \\lambda \\cdot \n",
    "\\begin{pmatrix}\n",
    "1 & 0\\\\ \n",
    "0 & 1\n",
    "\\end{pmatrix}) = 0$$<br> \n",
    "$$det(\\begin{pmatrix}\n",
    "-1 & -6\\\\ \n",
    "2 & 6\n",
    "\\end{pmatrix} + \n",
    "\\begin{pmatrix}\n",
    "- \\lambda & 0\\\\ \n",
    "0 & - \\lambda\n",
    "\\end{pmatrix}) = 0\n",
    "$$<br>\n",
    "$$\\begin{vmatrix}\n",
    "-1-\\lambda & -6\\\\ \n",
    "2 & 6-\\lambda\n",
    "\\end{vmatrix} = 0\n",
    "$$<br>\n",
    "$$(-1-\\lambda)\\cdot(6-\\lambda) - (-6)\\cdot2 = 0$$<br>\n",
    "$$(-1-\\lambda)\\cdot(6-\\lambda) = -12$$<br>\n",
    "$$(-1)\\cdot 6 + (-1)\\cdot(-\\lambda) + (-\\lambda)\\cdot 6 + (-\\lambda)\\cdot(-\\lambda) = -12$$<br>\n",
    "$$-6 + \\lambda - 6\\cdot \\lambda + \\lambda^2 = -12$$<br>\n",
    "$$\\lambda^2 - 5\\cdot \\lambda = -6$$"
   ]
  },
  {
   "cell_type": "markdown",
   "id": "4cb4572d",
   "metadata": {},
   "source": [
    "Получившееся уравнение имеет решение при $\\lambda_1 = 2$ и $\\lambda_2 = 3$, поэтому собственные значения для заданного линейного оператора равны 2 и 3."
   ]
  },
  {
   "cell_type": "markdown",
   "id": "ff08274e",
   "metadata": {},
   "source": [
    "Для нахождения собственных векторов применим определение: собственный вектор оператора $\\textbf{A}$ — это такой ненулевой вектор, действие оператора на который сводится к умножению его на число: $\\textbf{A}x=\\lambda x$. Найдем собственные векторы для каждого значения $\\lambda$."
   ]
  },
  {
   "cell_type": "markdown",
   "id": "546e252d",
   "metadata": {},
   "source": [
    "$\\lambda_1 = 2$\n",
    "$$\\begin{pmatrix}\n",
    "-1 & -6\\\\ \n",
    "2 & 6\n",
    "\\end{pmatrix}\\cdot\n",
    "\\begin{pmatrix}\n",
    "x_{1}\\\\ \n",
    "x_{2}\n",
    "\\end{pmatrix}=\n",
    "\\lambda \\cdot\n",
    "\\begin{pmatrix}\n",
    "x_{1}\\\\ \n",
    "x_{2}\n",
    "\\end{pmatrix} = 2 \\cdot\n",
    "\\begin{pmatrix}\n",
    "x_{1}\\\\ \n",
    "x_{2}\n",
    "\\end{pmatrix}\n",
    "$$<br>\n",
    "$$\\begin{pmatrix}\n",
    "-1 * x_1 + (-6) * x_2\\\\\n",
    "2 * x_1 + 6 * x_2\n",
    "\\end{pmatrix} =\n",
    "\\begin{pmatrix}\n",
    "2 \\cdot x_{1}\\\\ \n",
    "2 \\cdot x_{2}\n",
    "\\end{pmatrix}\n",
    "$$"
   ]
  },
  {
   "cell_type": "markdown",
   "id": "73c85ff7",
   "metadata": {},
   "source": [
    "Получаем систему:\n",
    "\n",
    "$$\\begin{cases}\n",
    "-x_{1} - 6x_{2}= 2x_{1} \\\\\n",
    "2x_{1} + 6x_{2}= 2x_{2}\n",
    "\\end{cases}$$\n",
    "\n",
    "Сделав преобразования, получим:\n",
    "\n",
    "$$\\begin{cases}\n",
    "- 3x_{1} = 6x_{2} \\\\\n",
    "2x_{1} = -4x_{2}\n",
    "\\end{cases}\n",
    "\\Rightarrow\n",
    "\\begin{cases}\n",
    "x_{1} = -2x_{2} \\\\\n",
    "x_{1} = -2x_{2}\n",
    "\\end{cases}$$"
   ]
  },
  {
   "cell_type": "markdown",
   "id": "a05a5001",
   "metadata": {},
   "source": [
    "Таким образом при $\\lambda_1 = 2$, собственные вектора имееют вид: $x_{1} = -2x_{2}$, то есть\n",
    "\n",
    "$$\\begin{pmatrix}\n",
    "0\\\\ \n",
    "0\n",
    "\\end{pmatrix},\n",
    "\\begin{pmatrix}\n",
    "-2\\\\ \n",
    "1\n",
    "\\end{pmatrix},\n",
    "\\begin{pmatrix}\n",
    "-4\\\\ \n",
    "2\n",
    "\\end{pmatrix}...\n",
    "$$"
   ]
  },
  {
   "cell_type": "markdown",
   "id": "25edf5d1",
   "metadata": {},
   "source": [
    "$\\lambda_2 = 3$\n",
    "$$\\begin{pmatrix}\n",
    "-1 & -6\\\\ \n",
    "2 & 6\n",
    "\\end{pmatrix}\\cdot\n",
    "\\begin{pmatrix}\n",
    "x_{1}\\\\ \n",
    "x_{2}\n",
    "\\end{pmatrix}=\n",
    "3 \\cdot\n",
    "\\begin{pmatrix}\n",
    "x_{1}\\\\ \n",
    "x_{2}\n",
    "\\end{pmatrix}\n",
    "$$<br>\n",
    "$$\\begin{pmatrix}\n",
    "-1 * x_1 + (-6) * x_2\\\\\n",
    "2 * x_1 + 6 * x_2\n",
    "\\end{pmatrix} =\n",
    "\\begin{pmatrix}\n",
    "3 \\cdot x_{1}\\\\ \n",
    "3 \\cdot x_{2}\n",
    "\\end{pmatrix}\n",
    "$$"
   ]
  },
  {
   "cell_type": "markdown",
   "id": "13baf8a1",
   "metadata": {},
   "source": [
    "Получаем систему:\n",
    "\n",
    "$$\\begin{cases}\n",
    "-x_{1} - 6x_{2}= 3x_{1} \\\\\n",
    "2x_{1} + 6x_{2}= 3x_{2}\n",
    "\\end{cases}$$\n",
    "\n",
    "Сделав преобразования, получим:\n",
    "\n",
    "$$\\begin{cases}\n",
    "- 4x_{1} = 6x_{2} \\\\\n",
    "2x_{1} = -3x_{2}\n",
    "\\end{cases}\n",
    "\\Rightarrow\n",
    "\\begin{cases}\n",
    "x_{1} = -1.5x_{2} \\\\\n",
    "x_{1} = -1.5x_{2}\n",
    "\\end{cases}$$"
   ]
  },
  {
   "cell_type": "markdown",
   "id": "adb3883b",
   "metadata": {},
   "source": [
    "Таким образом при $\\lambda_2 = 3$, собственные вектора имееют вид: $x_{1} = -1.5x_{2}$, то есть\n",
    "\n",
    "$$\\begin{pmatrix}\n",
    "0\\\\ \n",
    "0\n",
    "\\end{pmatrix},\n",
    "\\begin{pmatrix}\n",
    "-1.5\\\\ \n",
    "1\n",
    "\\end{pmatrix},\n",
    "\\begin{pmatrix}\n",
    "-3\\\\ \n",
    "2\n",
    "\\end{pmatrix}...\n",
    "$$"
   ]
  },
  {
   "cell_type": "code",
   "execution_count": 1,
   "id": "f5f7c755",
   "metadata": {},
   "outputs": [
    {
     "name": "stdout",
     "output_type": "stream",
     "text": [
      "Матрица A:\n",
      "[[-1 -6]\n",
      " [ 2  6]]\n",
      "Собственные значения:\n",
      "[2. 3.]\n",
      "Собственные векторы:\n",
      "[[-1.  1.]\n",
      " [ 0. -1.]]\n"
     ]
    }
   ],
   "source": [
    "import numpy as np\n",
    "\n",
    "np.set_printoptions(precision=0, suppress=True)\n",
    "\n",
    "A = np.array([[-1, -6], [2, 6]])\n",
    "w, v = np.linalg.eig(A)\n",
    " \n",
    "print(f'Матрица A:\\n{A}')\n",
    "print(f'Собственные значения:\\n{w}')\n",
    "print(f'Собственные векторы:\\n{v}')"
   ]
  },
  {
   "cell_type": "markdown",
   "id": "9e68612b",
   "metadata": {},
   "source": [
    "### Задача 2"
   ]
  },
  {
   "cell_type": "markdown",
   "id": "b43f1458",
   "metadata": {},
   "source": [
    "_**Условие:**_"
   ]
  },
  {
   "cell_type": "markdown",
   "id": "d89bb6bd",
   "metadata": {},
   "source": [
    "Дан оператор поворота на 180 градусов, задаваемый матрицей:\n",
    "\n",
    "$$A=\\begin{pmatrix}\n",
    "-1 & 0\\\\ \n",
    "0 & -1\n",
    "\\end{pmatrix}.$$\n",
    "\n",
    "Покажите, что __любой__ вектор считается для него собственным."
   ]
  },
  {
   "cell_type": "markdown",
   "id": "f6a65c58",
   "metadata": {},
   "source": [
    "_**Решение:**_"
   ]
  },
  {
   "cell_type": "markdown",
   "id": "921591a3",
   "metadata": {},
   "source": [
    "При повороте на 180 градусов, значения меняют знак на противоположный, то есть получаем $A=\\begin{pmatrix}\n",
    "1 & 0\\\\ \n",
    "0 & 1\n",
    "\\end{pmatrix}$. Найдем $\\lambda$:"
   ]
  },
  {
   "cell_type": "markdown",
   "id": "c342c661",
   "metadata": {},
   "source": [
    "$$det(\\begin{pmatrix}\n",
    "1 & 0\\\\ \n",
    "0 & 1\n",
    "\\end{pmatrix} - \\lambda \\cdot \n",
    "\\begin{pmatrix}\n",
    "1 & 0\\\\ \n",
    "0 & 1\n",
    "\\end{pmatrix}) = 0$$\n",
    "\n",
    "Применив свойства умножения матриц получим:\n",
    "\n",
    "$$det((1 - \\lambda) \\cdot \\begin{pmatrix}\n",
    "1 & 0\\\\ \n",
    "0 & 1\n",
    "\\end{pmatrix}) = 0$$\n",
    "\n",
    "$$det(\\begin{pmatrix}\n",
    "(1 - \\lambda) & 0\\\\ \n",
    "0 & (1 - \\lambda)\n",
    "\\end{pmatrix}) = 0$$\n",
    "\n",
    "$$(1 - \\lambda)^2 = 0\n",
    "\\Rightarrow\n",
    "\\lambda = 1\n",
    "$$"
   ]
  },
  {
   "cell_type": "markdown",
   "id": "bbae3c01",
   "metadata": {},
   "source": [
    "Вычислим собственные вектора:\n",
    "\n",
    "$$\\begin{pmatrix}\n",
    "1 & 0\\\\ \n",
    "0 & 1\n",
    "\\end{pmatrix}\\cdot\n",
    "\\begin{pmatrix}\n",
    "x_{1}\\\\ \n",
    "x_{2}\n",
    "\\end{pmatrix} =\n",
    "1 \\cdot\n",
    "\\begin{pmatrix}\n",
    "x_{1}\\\\ \n",
    "x_{2}\n",
    "\\end{pmatrix}\n",
    "$$\n",
    "\n",
    "$$\\begin{pmatrix}\n",
    "1 * x_{1} + 0 * x_{2}\\\\ \n",
    "0 * x_{1} + 1 * x_{2}\n",
    "\\end{pmatrix} =\n",
    "\\begin{pmatrix}\n",
    "x_{1}\\\\ \n",
    "x_{2}\n",
    "\\end{pmatrix}\n",
    "\\Rightarrow\n",
    "\\begin{cases}\n",
    "x_{1} = x_{1} \\\\\n",
    "x_{2} = x_{2}\n",
    "\\end{cases}\n",
    "$$"
   ]
  },
  {
   "cell_type": "markdown",
   "id": "8fa431ff",
   "metadata": {},
   "source": [
    "Таким образом как $x_{1}$, так и $x_{2}$ могут принимать любые значения, поэтому любой вектор считается собственным для заданного оператора."
   ]
  },
  {
   "cell_type": "markdown",
   "id": "1018460f",
   "metadata": {},
   "source": [
    "### Задача 3"
   ]
  },
  {
   "cell_type": "markdown",
   "id": "04fc0047",
   "metadata": {},
   "source": [
    "_**Условие:**_"
   ]
  },
  {
   "cell_type": "markdown",
   "id": "7786e0fe",
   "metadata": {},
   "source": [
    "Пусть линейный оператор задан матрицей:\n",
    "\n",
    "$$A=\\begin{pmatrix}\n",
    "1 & 1\\\\ \n",
    "-1 & 3\n",
    "\\end{pmatrix}.$$\n",
    "\n",
    "Установите, считается ли вектор $x=(1,1)$ собственным вектором этого линейного оператора."
   ]
  },
  {
   "cell_type": "markdown",
   "id": "8f78faa3",
   "metadata": {},
   "source": [
    "_**Решение:**_"
   ]
  },
  {
   "cell_type": "markdown",
   "id": "bda1dff2",
   "metadata": {},
   "source": [
    "Предположим, что вектор $x$ считается собственным вектором заданного линейного оператора $A$, тогда должно существовать некоторое вещественное число $\\lambda$, при котором:\n",
    "\n",
    "$$\\begin{pmatrix}\n",
    "1 & 1\\\\ \n",
    "-1 & 3\n",
    "\\end{pmatrix} \\cdot\n",
    "\\begin{pmatrix}\n",
    "1\\\\ \n",
    "1 \n",
    "\\end{pmatrix}=\n",
    "\\lambda \\cdot\n",
    "\\begin{pmatrix}\n",
    "1\\\\ \n",
    "1\n",
    "\\end{pmatrix}\n",
    "$$<br>\n",
    "$$\\begin{pmatrix}\n",
    "1 * 1 + 1 * 1\\\\ \n",
    "-1 * 1 + 3 * 1\n",
    "\\end{pmatrix} =\n",
    "\\begin{pmatrix}\n",
    "\\lambda\\\\ \n",
    "\\lambda\n",
    "\\end{pmatrix}\n",
    "\\Rightarrow\n",
    "\\begin{cases}\n",
    "1 + 1 = \\lambda\\\\ \n",
    "-1 + 3 = \\lambda \n",
    "\\end{cases}\n",
    "\\Rightarrow\n",
    "\\begin{cases}\n",
    "\\lambda = 2\\\\ \n",
    "\\lambda = 2\n",
    "\\end{cases}$$\n",
    "\n",
    "Следовательно, вектор $x=(1, 1)$ считается собственным вектором линейного оператора, заданного матрицей $A$."
   ]
  },
  {
   "cell_type": "markdown",
   "id": "0d30f7eb",
   "metadata": {},
   "source": [
    "### Задача 4"
   ]
  },
  {
   "cell_type": "markdown",
   "id": "d902bd0e",
   "metadata": {},
   "source": [
    "_**Условие:**_"
   ]
  },
  {
   "cell_type": "markdown",
   "id": "66d3a67b",
   "metadata": {},
   "source": [
    "Пусть линейный оператор задан матрицей:\n",
    "\n",
    "$$A=\\begin{pmatrix} 0 & 3 & 0\\\\ 3 & 0 & 0\\\\ 0 & 0 & 3 \\end{pmatrix}.$$\n",
    "\n",
    "Установите, считается ли вектор $x=(3, -3, -4)$ собственным вектором этого линейного оператора."
   ]
  },
  {
   "cell_type": "markdown",
   "id": "03957a1d",
   "metadata": {},
   "source": [
    "_**Решение:**_"
   ]
  },
  {
   "cell_type": "markdown",
   "id": "f8697823",
   "metadata": {},
   "source": [
    "Предположим, что вектор $x$ считается собственным вектором заданного линейного оператора $A$, тогда должно существовать некоторое вещественное число $\\lambda$, при котором:\n",
    "\n",
    "$$\\begin{pmatrix}\n",
    "0 & 3 & 0\\\\ \n",
    "3 & 0 & 0\\\\\n",
    "0 & 0 & 3\n",
    "\\end{pmatrix} \\cdot\n",
    "\\begin{pmatrix}\n",
    "3\\\\ \n",
    "-3\\\\\n",
    "-4\n",
    "\\end{pmatrix}=\n",
    "\\lambda \\cdot\n",
    "\\begin{pmatrix}\n",
    "3\\\\ \n",
    "-3\\\\\n",
    "-4\n",
    "\\end{pmatrix}\n",
    "$$<br>\n",
    "$$\\begin{pmatrix}\n",
    "0 * 3 + 3 * (-3) + 0 * (-4)\\\\ \n",
    "3 * 3 + 0 * (-3) + 0 * (-4)\\\\\n",
    "0 * 3 + 0 * (-3) + 3 * (-4)\n",
    "\\end{pmatrix} =\n",
    "\\begin{pmatrix}\n",
    "\\lambda * 3\\\\ \n",
    "\\lambda * (-3)\\\\\n",
    "\\lambda * (-4)\n",
    "\\end{pmatrix}\n",
    "\\Rightarrow\n",
    "\\begin{cases}\n",
    "-9 = 3\\lambda\\\\ \n",
    "9 = -3\\lambda\\\\\n",
    "-12 = -4\\lambda\n",
    "\\end{cases}\n",
    "\\Rightarrow\n",
    "\\begin{cases}\n",
    "\\lambda = -3\\\\ \n",
    "\\lambda = -3\\\\\n",
    "\\lambda = 3\n",
    "\\end{cases}$$\n",
    "\n",
    "Такая система не имеет смысла, следовательно, вектор $x=(3, -3, -4)$ не считается собственным вектором линейного оператора, заданного матрицей $A$."
   ]
  },
  {
   "cell_type": "code",
   "execution_count": null,
   "id": "e6a4d6ad",
   "metadata": {},
   "outputs": [],
   "source": []
  }
 ],
 "metadata": {
  "kernelspec": {
   "display_name": "Python 3 (ipykernel)",
   "language": "python",
   "name": "python3"
  },
  "language_info": {
   "codemirror_mode": {
    "name": "ipython",
    "version": 3
   },
   "file_extension": ".py",
   "mimetype": "text/x-python",
   "name": "python",
   "nbconvert_exporter": "python",
   "pygments_lexer": "ipython3",
   "version": "3.9.12"
  }
 },
 "nbformat": 4,
 "nbformat_minor": 5
}
