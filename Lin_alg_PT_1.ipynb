{
 "cells": [
  {
   "cell_type": "markdown",
   "id": "de9613e4",
   "metadata": {},
   "source": [
    "## Практическое задание №1."
   ]
  },
  {
   "cell_type": "markdown",
   "id": "9955695e",
   "metadata": {},
   "source": [
    "## Линейное пространство. Основные понятия."
   ]
  },
  {
   "cell_type": "markdown",
   "id": "644f35da",
   "metadata": {},
   "source": [
    "## Часть 1"
   ]
  },
  {
   "cell_type": "markdown",
   "id": "1a0929f9",
   "metadata": {},
   "source": [
    "### Задача 1"
   ]
  },
  {
   "cell_type": "markdown",
   "id": "9cb7dd87",
   "metadata": {},
   "source": [
    "_**Условие:**_"
   ]
  },
  {
   "cell_type": "markdown",
   "id": "16609c19",
   "metadata": {},
   "source": [
    "Исследуйте на линейную зависимость:\n",
    "\n",
    "- $f_{1}(x)=e^{x},$\n",
    "- $f_{2}(x)=1,$\n",
    "- $f_{3}(x)=x+1,$\n",
    "- $f_{4}(x)=x-e^{x}.$"
   ]
  },
  {
   "cell_type": "markdown",
   "id": "411a5604",
   "metadata": {},
   "source": [
    "_**Решение:**_"
   ]
  },
  {
   "cell_type": "markdown",
   "id": "a9777525",
   "metadata": {},
   "source": [
    "Глядя на данные вектора можно заметить что:"
   ]
  },
  {
   "cell_type": "markdown",
   "id": "e125d0c4",
   "metadata": {},
   "source": [
    "$$x+1 = ((x-e^{x}) + (e^{x}) + (1)) = (x-e^{x} + e^{x} + 1) = x + 1$$, то есть "
   ]
  },
  {
   "cell_type": "markdown",
   "id": "d80fec1a",
   "metadata": {},
   "source": [
    "$$f_{3}(x) = f_{4}(x) + f_{1}(x) + f_{2}(x)$$"
   ]
  },
  {
   "cell_type": "markdown",
   "id": "d0f4da28",
   "metadata": {},
   "source": [
    "таким образом, вектор $f_{3}(x)$ — линейная комбинация векторов $f_{4}(x)$, $f_{1}(x)$ и $f_{2}(x)$, из чего можно сделать вывод, что $f_{1}(x)=e^{x}$, $f_{2}(x)=1$, $f_{3}(x)=x+1$, и $f_{4}(x)=x-e^{x}$ линейно зависимы, то есть $f_{3}(x) - f_{4}(x) - f_{1}(x) - f_{2}(x) = 0$"
   ]
  },
  {
   "cell_type": "markdown",
   "id": "3ed795c3",
   "metadata": {},
   "source": [
    "### Задача 2"
   ]
  },
  {
   "cell_type": "markdown",
   "id": "ea0f3585",
   "metadata": {},
   "source": [
    "_**Условие:**_"
   ]
  },
  {
   "cell_type": "markdown",
   "id": "3ae78795",
   "metadata": {},
   "source": [
    "Исследуйте на линейную зависимость:\n",
    "\n",
    "- $f_{1}(x)=2,$\n",
    "- $f_{2}(x)=x,$\n",
    "- $f_{3}(x)=x^{2},$\n",
    "- $f_{4}(x)=(x+1)^{2}$"
   ]
  },
  {
   "cell_type": "markdown",
   "id": "18276454",
   "metadata": {},
   "source": [
    "_**Решение:**_"
   ]
  },
  {
   "cell_type": "markdown",
   "id": "3a4a1dc0",
   "metadata": {},
   "source": [
    "Разложим вектор $f_{4}(x)=(x+1)^{2}$ по правилу разложения квадрата суммы: "
   ]
  },
  {
   "cell_type": "markdown",
   "id": "7fce3d59",
   "metadata": {},
   "source": [
    "$$(x+1)^2 = x^2 + 2 \\cdot x \\cdot 1 + 1^2 = x^2 + 2x + 1$$ получаем следующее:"
   ]
  },
  {
   "cell_type": "markdown",
   "id": "0b206644",
   "metadata": {},
   "source": [
    "$$f_4(x) = f_3(x) + f_1(x) \\cdot f_2(x) + 1$$\n",
    "$$f_4(x) - f_3(x) - f_1(x) \\cdot f_2(x) = 1 \\neq 0$$"
   ]
  },
  {
   "cell_type": "markdown",
   "id": "69800740",
   "metadata": {},
   "source": [
    "Таким образом вектор $f_4(x)$ не является линейной комбинацией векторов $f_1(x)$, $f_2(x)$, $f_3(x)$, следовательно можно сделать вывод, что данные в задаче вектора линейно независимы. "
   ]
  },
  {
   "cell_type": "markdown",
   "id": "7617db4e",
   "metadata": {},
   "source": [
    "### Задача 3"
   ]
  },
  {
   "cell_type": "markdown",
   "id": "80c010b6",
   "metadata": {},
   "source": [
    "_**Условие:**_"
   ]
  },
  {
   "cell_type": "markdown",
   "id": "23b7926b",
   "metadata": {},
   "source": [
    "Найдите координаты вектора $x = (2, 3, 5)\\in \\mathbb{R}^{3}$ в базисе $b_{1}=(0, 0, 10)$, $b_{2}=(2, 0, 0)$, $b_{3}=(0, 1, 0)$."
   ]
  },
  {
   "cell_type": "markdown",
   "id": "46481864",
   "metadata": {},
   "source": [
    "_**Решение:**_"
   ]
  },
  {
   "cell_type": "markdown",
   "id": "9f17f3b9",
   "metadata": {},
   "source": [
    "Координаты вектора $x$ в заданном базисе можно выразить следующим образом:"
   ]
  },
  {
   "cell_type": "markdown",
   "id": "83e9b2c4",
   "metadata": {},
   "source": [
    "$$x = \\xi_{1}b_{1} + \\xi_{2}b_{2} + \\xi_{3}b_{3} = (2, 3, 5) = \\xi_{1}(0, 0, 10) + \\xi_{2}(2, 0, 0) + \\xi_{3}(0, 1, 0) = (2, 3, 5)$$"
   ]
  },
  {
   "cell_type": "markdown",
   "id": "4ac32235",
   "metadata": {},
   "source": [
    "из этого получаем систему уравнений, откуда:"
   ]
  },
  {
   "cell_type": "markdown",
   "id": "f118d5ba",
   "metadata": {},
   "source": [
    "$$\\begin{cases}\n",
    " \\xi_{1}\\cdot 0 + \\xi_{2} \\cdot 2 + \\xi_{3} \\cdot 0 = 2 => \\xi_{2} \\cdot 2 = 2 => \\xi_{2} = 1\\\\\n",
    " \\xi_{1}\\cdot 0 + \\xi_{2} \\cdot 0 + \\xi_{3} \\cdot 1 = 3 => \\xi_{3} = 3\\\\\n",
    " \\xi_{1}\\cdot 10 + \\xi_{2} \\cdot 0 + \\xi_{3} \\cdot 0 = 5 => \\xi_{1} \\cdot 10 = 5 => \\xi_{1} = 0.5\n",
    "\\end{cases}$$"
   ]
  },
  {
   "cell_type": "markdown",
   "id": "7ebd00ca",
   "metadata": {},
   "source": [
    "Таким образом координаты вектора $x \\in \\mathbb{R}^{3}$ в базисе $b_{1}=(0, 0, 10)$, $b_{2}=(2, 0, 0)$, $b_{3}=(0, 1, 0)$:\n",
    "- $0.5$, $1$, $3$."
   ]
  },
  {
   "cell_type": "markdown",
   "id": "120f3963",
   "metadata": {},
   "source": [
    "### Задача 4"
   ]
  },
  {
   "cell_type": "markdown",
   "id": "a39a771c",
   "metadata": {},
   "source": [
    "_**Условие:**_"
   ]
  },
  {
   "cell_type": "markdown",
   "id": "19793e3c",
   "metadata": {},
   "source": [
    "Найдите координаты вектора $3x^{2}-2x+2\\in\\mathbb{R}^{3}[x]$:\n",
    "\n",
    "а) в базисе $1$, $x$, $x^{2}$;\n",
    "\n",
    "б) в базисе $x^{2}$, $x-1$, $1$."
   ]
  },
  {
   "cell_type": "markdown",
   "id": "16c4d932",
   "metadata": {},
   "source": [
    "_**Решение:**_"
   ]
  },
  {
   "cell_type": "markdown",
   "id": "9de8fad2",
   "metadata": {},
   "source": [
    "_**а)**_"
   ]
  },
  {
   "cell_type": "markdown",
   "id": "5ec2662a",
   "metadata": {},
   "source": [
    "Координаты заданного вектора в заданном базисе можно выразить следующим образом:"
   ]
  },
  {
   "cell_type": "markdown",
   "id": "72d55e83",
   "metadata": {},
   "source": [
    "$$3x^2 - 2x + 2 = a \\cdot 1 + b \\cdot x + c \\cdot x^2$$ $$=>$$ \n",
    "$$3x^2 - 2x + 2 = c \\cdot x^2 + b \\cdot x + a$$"
   ]
  },
  {
   "cell_type": "markdown",
   "id": "c9ae2f26",
   "metadata": {},
   "source": [
    "Очевидно, что левая и правая части будут равны при $c = 3$, $b = 2$, $a = 2$, таким образом координаты вектора $3x^{2}-2x+2\\in\\mathbb{R}^{3}[x]$ в базисе $1$, $x$, $x^{2}$:\n",
    "- $2$, $2$, $3$."
   ]
  },
  {
   "cell_type": "markdown",
   "id": "bd0b3c94",
   "metadata": {},
   "source": [
    "_**б)**_"
   ]
  },
  {
   "cell_type": "markdown",
   "id": "73125bcb",
   "metadata": {},
   "source": [
    "Координаты заданного вектора в заданном базисе можно выразить следующим образом:"
   ]
  },
  {
   "cell_type": "markdown",
   "id": "b4dfa6e5",
   "metadata": {},
   "source": [
    "$$3x^2 - 2x + 2 = a \\cdot x^2 + b \\cdot (x - 1) + c \\cdot 1$$ $$=>$$ \n",
    "$$3x^2 - 2x + 2 = a \\cdot x^2 + b \\cdot x - b + c$$ $$=>$$\n",
    "$$3x^2 - 2x + 2 = a \\cdot x^2 + b \\cdot x + (c - b)$$"
   ]
  },
  {
   "cell_type": "markdown",
   "id": "40e3bb47",
   "metadata": {},
   "source": [
    "Очевидно, что левая и правая части будут равны при $a = 3$, $b = 2$, $c - b = 2$ $=>$ $c = b + 2 = 2 + 2 = 4$, таким образом координаты вектора $3x^{2}-2x+2\\in\\mathbb{R}^{3}[x]$ в базисе $x^{2}$, $x - 1$, $1$:\n",
    "- $3$, $2$, $4$."
   ]
  },
  {
   "cell_type": "markdown",
   "id": "e6f473ab",
   "metadata": {},
   "source": [
    "### Задача 5"
   ]
  },
  {
   "cell_type": "markdown",
   "id": "77cb41d4",
   "metadata": {},
   "source": [
    "_**Условие:**_"
   ]
  },
  {
   "cell_type": "markdown",
   "id": "2c4305ec",
   "metadata": {},
   "source": [
    "Установите, считается ли линейным подпространством:\n",
    "\n",
    "а) совокупность всех векторов трёхмерного пространства, у которых по крайней мере одна из первых двух координат равна нулю;\n",
    "    \n",
    "б) все векторы, считающиеся линейными комбинациями данных векторов $\\{u_{1}, u_{2} \\ldots, u_{n}\\}$."
   ]
  },
  {
   "cell_type": "markdown",
   "id": "5c106bfc",
   "metadata": {},
   "source": [
    "_**Решение:**_"
   ]
  },
  {
   "cell_type": "markdown",
   "id": "9cca3470",
   "metadata": {},
   "source": [
    "_**а)**_"
   ]
  },
  {
   "cell_type": "markdown",
   "id": "6d621708",
   "metadata": {},
   "source": [
    "Определение, что по крайней мере одна из первых двух координат совокупности всех векторов трёхмерного пространства равна нулю, означает: проверяемое множество содержит все вектора вида $(0, a, b)$ __ИЛИ__ $(a, 0, b)$. Таким образом, необходимо проверить следующие условия:"
   ]
  },
  {
   "cell_type": "markdown",
   "id": "2545d411",
   "metadata": {},
   "source": [
    "1. $(0, a, b) + (0, c, d) = (0, (a+c), (b+d))$ - получившийся вектор имеет вид $(0, a, b)$, поэтому принадлежит проверяемому множеству;\n",
    "2. $(a, 0, b) + (0, c, d) = (a, c, (b+d))$ - получившийся вектор имеет вид отличный от заданного, поэтому не принадлежит проверяемому множеству;\n",
    "3. $(a, 0, b) + (c, 0, d) = ((a+c), 0, (b+d))$ - получившийся вектор имеет вид $(a, 0, b)$, поэтому принадлежит проверяемому множеству;\n",
    "4. $\\alpha\\cdot (0, a, b) = (0, \\alpha a, \\alpha b)$ - получившийся вектор имеет вид $(0, a, b)$, поэтому принадлежит проверяемому множеству;\n",
    "5. $\\alpha\\cdot (a, 0, b) = (\\alpha a, 0, \\alpha b)$ - получившийся вектор имеет вид $(a, 0, b)$, поэтому принадлежит проверяемому множеству."
   ]
  },
  {
   "cell_type": "markdown",
   "id": "d0cc441a",
   "metadata": {},
   "source": [
    "Условие №2 не выполняется, поэтому можно заключить, что совокупность всех векторов трёхмерного пространства, у которых по крайней мере одна из первых двух координат равна нулю не является линейным подпространством."
   ]
  },
  {
   "cell_type": "markdown",
   "id": "a25aaf8c",
   "metadata": {},
   "source": [
    "_**б)**_"
   ]
  },
  {
   "cell_type": "markdown",
   "id": "f0e5a0f0",
   "metadata": {},
   "source": [
    "Поскольку известно, что векторы проверяемого подпространства считаются линейными комбинациями заданных векторов $\\{u_{1}, u_{2} \\ldots, u_{n}\\}$, то можно сказать, что сумма линейных комбинаций векторов проверяемого подпространства и заданных векторов $\\{u_{1}, u_{2} \\ldots, u_{n}\\}$, равно как и произведение линейной комбинации заданных векторов $\\{u_{1}, u_{2} \\ldots, u_{n}\\}$ на число, также являются линейными комбинациями, тогда множество всех линейных комбинаций векторов проверяемого подпространства и заданных векторов $\\{u_{1}, u_{2} \\ldots, u_{n}\\}$ является замкнутым относительно сложения векторов и умножения векторов на число, т.е. выполняются оба условия утверждения о линейном подпространстве.\n",
    "\n",
    "Таким образом, все векторы, считающиеся линейными комбинациями заданных векторов $\\{u_{1}, u_{2} \\ldots, u_{n}\\}$ являются линейным подпространством."
   ]
  },
  {
   "cell_type": "markdown",
   "id": "d94f4f86",
   "metadata": {},
   "source": [
    "## Часть 2"
   ]
  },
  {
   "cell_type": "markdown",
   "id": "ed1180f6",
   "metadata": {},
   "source": [
    "### Задача 1"
   ]
  },
  {
   "cell_type": "markdown",
   "id": "246da71e",
   "metadata": {},
   "source": [
    "_**Условие:**_"
   ]
  },
  {
   "cell_type": "markdown",
   "id": "84307f7f",
   "metadata": {},
   "source": [
    "Найдите скалярное произведение векторов $x, y \\in \\mathbb{R}$:<br>\n",
    "а) $x=(0,-3, 6),~y=(-4, 7, 9);$<br>\n",
    "б) $x=(7, -4, 0, 1),~y=(-3, 1, 11, 2).$"
   ]
  },
  {
   "cell_type": "markdown",
   "id": "4f7fc06c",
   "metadata": {},
   "source": [
    "_**Решение:**_"
   ]
  },
  {
   "cell_type": "markdown",
   "id": "281f7ced",
   "metadata": {},
   "source": [
    "_**а)**_"
   ]
  },
  {
   "cell_type": "markdown",
   "id": "d00ba572",
   "metadata": {},
   "source": [
    "Скалярное произведение векторов $x=(0,-3, 6),~y=(-4, 7, 9)$ равно:"
   ]
  },
  {
   "cell_type": "markdown",
   "id": "a695b50c",
   "metadata": {},
   "source": [
    "$$(x,y) = 0 \\cdot (-4) + (-3) \\cdot 7 + 6 \\cdot 9 = 0 - 21 + 54 = 33$$"
   ]
  },
  {
   "cell_type": "markdown",
   "id": "1e017bd0",
   "metadata": {},
   "source": [
    "Проверим встроенными методами:"
   ]
  },
  {
   "cell_type": "code",
   "execution_count": 1,
   "id": "9e96e483",
   "metadata": {},
   "outputs": [],
   "source": [
    "import numpy as np"
   ]
  },
  {
   "cell_type": "code",
   "execution_count": 2,
   "id": "04fea2b0",
   "metadata": {},
   "outputs": [
    {
     "name": "stdout",
     "output_type": "stream",
     "text": [
      "Скалярное произведение x_a и y_a:\t33\n",
      "Скалярное произведение x_a и y_a:\t33\n",
      "Скалярное произведение x_a и y_a:\t33\n"
     ]
    }
   ],
   "source": [
    "x_a = np.array([0, -3, 6])\n",
    "y_a = np.array([-4, 7, 9])\n",
    "print(f'Скалярное произведение x_a и y_a:\\t{np.dot(x_a, y_a)}')\n",
    "print(f'Скалярное произведение x_a и y_a:\\t{x_a.dot(y_a)}')\n",
    "print(f'Скалярное произведение x_a и y_a:\\t{x_a @ y_a}')"
   ]
  },
  {
   "cell_type": "markdown",
   "id": "2171c992",
   "metadata": {},
   "source": [
    "_**б)**_"
   ]
  },
  {
   "cell_type": "markdown",
   "id": "760fec22",
   "metadata": {},
   "source": [
    "Скалярное произведение векторов $x=(7,-4, 0, 1),~y=(-3, 1, 11, 2)$ равно:"
   ]
  },
  {
   "cell_type": "markdown",
   "id": "80b7ec62",
   "metadata": {},
   "source": [
    "$$(x,y) = 7 \\cdot (-3) + (-4) \\cdot 1 + 0 \\cdot 11 + 1 \\cdot 2 = -21 - 4 + 0 + 2 = -23$$"
   ]
  },
  {
   "cell_type": "code",
   "execution_count": 3,
   "id": "9d2fba48",
   "metadata": {},
   "outputs": [
    {
     "name": "stdout",
     "output_type": "stream",
     "text": [
      "Скалярное произведение x_b и y_b:\t-23\n"
     ]
    }
   ],
   "source": [
    "x_b = np.array([7, -4, 0, 1])\n",
    "y_b = np.array([-3, 1, 11, 2])\n",
    "print(f'Скалярное произведение x_b и y_b:\\t{np.dot(x_b, y_b)}')"
   ]
  },
  {
   "cell_type": "markdown",
   "id": "201c1260",
   "metadata": {},
   "source": [
    "### Задача 2"
   ]
  },
  {
   "cell_type": "markdown",
   "id": "fe0e4b3b",
   "metadata": {},
   "source": [
    "_**Условие:**_"
   ]
  },
  {
   "cell_type": "markdown",
   "id": "497fa4a2",
   "metadata": {},
   "source": [
    "Найдите нормы векторов $(4, 2, 4)$ и $(12, 3, 4)$ и угол между ними."
   ]
  },
  {
   "cell_type": "markdown",
   "id": "de2a520d",
   "metadata": {},
   "source": [
    "_**Решение:**_"
   ]
  },
  {
   "cell_type": "markdown",
   "id": "de949c5a",
   "metadata": {},
   "source": [
    "Зададим вектора: $a = (4, 2, 4)$, $b = (12, 3, 4)$"
   ]
  },
  {
   "cell_type": "code",
   "execution_count": 4,
   "id": "03b28dfb",
   "metadata": {},
   "outputs": [],
   "source": [
    "a = np.array([4, 2, 4])\n",
    "b = np.array([12, 3, 4])"
   ]
  },
  {
   "cell_type": "markdown",
   "id": "7ff6be64",
   "metadata": {},
   "source": [
    "Манхэттенские нормы векторов:\n",
    "\n",
    "$$\\left\\|a\\right\\| = |4| + |2| + |4| = 10$$\n",
    "$$\\left\\|b\\right\\| = |12| + |3| + |4| = 19$$"
   ]
  },
  {
   "cell_type": "code",
   "execution_count": 5,
   "id": "576b21ce",
   "metadata": {},
   "outputs": [
    {
     "name": "stdout",
     "output_type": "stream",
     "text": [
      "Манхэттенская норма вектора a:\t10.0\n",
      "Манхэттенская норма вектора b:\t19.0\n"
     ]
    }
   ],
   "source": [
    "from numpy.linalg import norm\n",
    "\n",
    "print(f'Манхэттенская норма вектора a:\\t{norm(a, ord=1)}')\n",
    "print(f'Манхэттенская норма вектора b:\\t{norm(b, ord=1)}')"
   ]
  },
  {
   "cell_type": "markdown",
   "id": "07c984cb",
   "metadata": {},
   "source": [
    "Евклидовы нормы векторов:\n",
    "$$\\left\\|a\\right\\| = \\sqrt{4^{2} + 2^{2} + 4^{2}} = \\sqrt{36} = 6$$\n",
    "$$\\left\\|b\\right\\| = \\sqrt{12^{2} + 3^{2} + 4^{2}} = \\sqrt{169} = 13$$"
   ]
  },
  {
   "cell_type": "code",
   "execution_count": 6,
   "id": "7a67313a",
   "metadata": {},
   "outputs": [
    {
     "name": "stdout",
     "output_type": "stream",
     "text": [
      "Евклидова норма вектора a:\t6.0\n",
      "Евклидова норма вектора b:\t13.0\n"
     ]
    }
   ],
   "source": [
    "print(f'Евклидова норма вектора a:\\t{norm(a, ord=2)}')\n",
    "print(f'Евклидова норма вектора b:\\t{norm(b, ord=2)}')"
   ]
  },
  {
   "cell_type": "markdown",
   "id": "ee795eee",
   "metadata": {},
   "source": [
    "Угол между векторами:\n",
    "$$cos\\varphi = \\frac{4 \\cdot 12 + 2 \\cdot 3 + 4 \\cdot 4 => 48 + 6 + 16}{\\sqrt{4^{2} + 2^{2} + 4^{2}}\\sqrt{12^{2} + 3^{2} + 4^{2}} => \\sqrt{36 \\cdot 169}} = \\frac{70}{\\sqrt{6084}}\\approx 0.9$$<br>\n",
    "$$arccos(0.9) \\approx 0.45~рад \\approx 25.84^0$$<br>\n",
    "$$(обратный~косинус~и~угол~в~градусах~считал~в~онлайн~калькуляторе)$$"
   ]
  },
  {
   "cell_type": "code",
   "execution_count": 7,
   "id": "8ce3668a",
   "metadata": {},
   "outputs": [
    {
     "name": "stdout",
     "output_type": "stream",
     "text": [
      "Косинус угла между a и b:\t0.90\n",
      "Угол между a и b:\t\t26.18\n"
     ]
    }
   ],
   "source": [
    "import math\n",
    "\n",
    "cos_phi = np.dot(a, b) / (norm(a, ord=2) * norm(b, ord=2))\n",
    "print(f'Косинус угла между a и b:\\t{cos_phi:.2f}')\n",
    "print(f'Угол между a и b:\\t\\t{math.degrees(np.arccos(cos_phi)):.2f}')"
   ]
  },
  {
   "cell_type": "markdown",
   "id": "f03410ea",
   "metadata": {},
   "source": [
    "### Задача 3"
   ]
  },
  {
   "cell_type": "markdown",
   "id": "abfa8a22",
   "metadata": {},
   "source": [
    "_**Условие:**_"
   ]
  },
  {
   "cell_type": "markdown",
   "id": "b7706459",
   "metadata": {},
   "source": [
    "Определите, будет ли линейное пространство евклидовым, если за скалярное произведение принять:<br>\n",
    "а) произведение длин векторов;<br>\n",
    "б) утроенное обычное скалярное произведение векторов?<br>"
   ]
  },
  {
   "cell_type": "markdown",
   "id": "617da264",
   "metadata": {},
   "source": [
    "_**Решение:**_"
   ]
  },
  {
   "cell_type": "markdown",
   "id": "498638bb",
   "metadata": {},
   "source": [
    "_**а)**_"
   ]
  },
  {
   "cell_type": "markdown",
   "id": "24556ad7",
   "metadata": {},
   "source": [
    "Зададим произвольные векторы в евклидовом пространстве $x$ и $y$. Длины этих векторов - это евклидовы нормы, которые выражаются следующим образом:"
   ]
  },
  {
   "cell_type": "markdown",
   "id": "d901970d",
   "metadata": {},
   "source": [
    "$$\\left\\|x\\right\\| = \\sqrt{\\sum_{i}|x_{i}|^{2}}$$<br>\n",
    "$$\\left\\|y\\right\\| = \\sqrt{\\sum_{j}|y_{j}|^{2}}$$"
   ]
  },
  {
   "cell_type": "markdown",
   "id": "5b332474",
   "metadata": {},
   "source": [
    "Чтобы определить будет ли линейное пространство евклидовым, необходимо проверить подчинение правил перемножения длин, определенным для евклидового пространства аксиомам:"
   ]
  },
  {
   "cell_type": "markdown",
   "id": "b3e10572",
   "metadata": {},
   "source": [
    "1. $(\\left\\|x\\right\\|,\\left\\|y\\right\\|)=(\\left\\|y\\right\\|,\\left\\|x\\right\\|)$\n",
    "2. $(\\lambda \\left\\|x\\right\\|, \\left\\|y\\right\\|)=\\lambda(\\left\\|x\\right\\|, \\left\\|y\\right\\|)$\n",
    "3. $((\\left\\|x_{1} + x_{2}\\right\\|),\\left\\|y\\right\\|)=(\\left\\|x\\right\\|_{1},\\left\\|y\\right\\|) +(\\left\\|x\\right\\|_{2},\\left\\|y\\right\\|)$\n",
    "4. $(\\left\\|x\\right\\|, \\left\\|x\\right\\|)\\geq0$, причём $(\\left\\|x\\right\\|,\\left\\|x\\right\\|) = 0\\Leftrightarrow \\left\\|x\\right\\| = 0$"
   ]
  },
  {
   "cell_type": "markdown",
   "id": "7058bcfc",
   "metadata": {},
   "source": [
    "1. $\\sqrt{\\sum_{i}|x_{i}|^{2}} \\cdot \\sqrt{\\sum_{j}|y_{j}|^{2}} = \\sqrt{\\sum_{j}|y_{j}|^{2}} \\cdot \\sqrt{\\sum_{i}|x_{i}|^{2}}$, правило выполняется; \n",
    "2. $\\lambda \\cdot \\sqrt{\\sum_{i}|x_{i}|^{2}} \\cdot \\sqrt{\\sum_{j}|y_{j}|^{2}} = \\lambda \\cdot (\\sqrt{\\sum_{j}|y_{j}|^{2}} \\cdot \\sqrt{\\sum_{i}|x_{i}|^{2}})$, правило выполняется;\n",
    "3. $\\sqrt{\\sum_{i}|x_{1} + x_{2}|_i^{2}} \\cdot \\sqrt{\\sum_{j}|y_{j}|^{2}} = \\sqrt{\\sum_{i}|x_{1}|_i^{2}} \\cdot \\sqrt{\\sum_{j}|y_{j}|^{2}} + \\sqrt{\\sum_{i}|x_{2}|_i^{2}} \\cdot \\sqrt{\\sum_{j}|y_{j}|^{2}}$, правило не выполняется для корня из суммы;\n",
    "4. $\\sqrt{\\sum_{i}|x_{i}|^{2}} \\cdot \\sqrt{\\sum_{i}|x_{i}|^{2}}\\geq0,~\\sqrt{\\sum_{i}|x_{i}|^{2}} \\cdot \\sqrt{\\sum_{i}|x_{i}|^{2}} = 0 \\Leftrightarrow \\sqrt{\\sum_{i}|x_{i}|^{2}} = 0$, правило выполняется;"
   ]
  },
  {
   "cell_type": "markdown",
   "id": "680edfc0",
   "metadata": {},
   "source": [
    "Таким образом, поскольку правило перемножения длин не подчиняется одной из аксиом (№3), то можно сделать вывод, что, если за скалярное произведение принять произведение длин векторов, то такое линейное пространство не будет являться евклидовым."
   ]
  },
  {
   "cell_type": "markdown",
   "id": "48f4dc00",
   "metadata": {},
   "source": [
    "_**б)**_"
   ]
  },
  {
   "cell_type": "markdown",
   "id": "6213a707",
   "metadata": {},
   "source": [
    "Зададим произвольные векторы в евклидовом пространстве $x$ и $y$. Обычное скалярное произведение векторов выражаются следующим образом:"
   ]
  },
  {
   "cell_type": "markdown",
   "id": "02c5603a",
   "metadata": {},
   "source": [
    "$$(x,y)=a_{1}b_{1}+a_{2}b_{2}+...+a_{n}b_{n}$$ утроенное будет вида:\n",
    "$$3\\cdot(a_{1}b_{1}+a_{2}b_{2}+...+a_{n}b_{n}) = 3\\cdot a_{1}b_{1}+3\\cdot a_{2}b_{2}+...+ 3\\cdot a_{n}b_{n}$$"
   ]
  },
  {
   "cell_type": "markdown",
   "id": "6f5ce456",
   "metadata": {},
   "source": [
    "Чтобы определить будет ли линейное пространство евклидовым, необходимо проверить подчинение правил перемножения утроенных обычных скалярных произведений векторов определенным для евклидового пространства аксиомам:"
   ]
  },
  {
   "cell_type": "markdown",
   "id": "3636977b",
   "metadata": {},
   "source": [
    "1. $3\\cdot a_{1}b_{1}+3\\cdot a_{2}b_{2}+...+ 3\\cdot a_{n}b_{n} = 3\\cdot b_{1}a_{1}+3\\cdot b_{2}a_{2}+...+ 3\\cdot b_{n}a_{n}$, правило выполняется; \n",
    "2. $3\\cdot \\lambda a_{1}b_{1}+3\\cdot \\lambda a_{2}b_{2}+...+ 3\\cdot \\lambda a_{n}b_{n} = 3\\cdot \\lambda (a_{1}b_{1}+ a_{2}b_{2}+...+ a_{n}b_{n})$, правило выполняется;\n",
    "3. $3\\cdot((a_i + a_j)_{1}b_{1}+(a_i + a_j)_{2}b_{2}+...+(a_i + a_j)_{n}b_{n}) = 3\\cdot a_{i1}b_{1}+3\\cdot a_{j1}b_{1} + 3\\cdot a_{i2}b_{2} + 3\\cdot a_{j2}b_{2} +...+ 3\\cdot a_{ni}b_{n} + 3\\cdot a_{nj}b_{n}$, правило выполняется;\n",
    "4. $3\\cdot(a_{1},a_{2}...,a_{n}) \\cdot 3\\cdot(a_{1},a_{2}...,a_{n}) \\geq0,~3\\cdot(a_{1},a_{2}...,a_{n})\\cdot 3\\cdot(a_{1},a_{2}...,a_{n}) = 0 \\Leftrightarrow (a_{1},a_{2}...,a_{n}) = 0$, правило выполняется;"
   ]
  },
  {
   "cell_type": "markdown",
   "id": "80a8ef34",
   "metadata": {},
   "source": [
    "Таким образом, поскольку утроенное обычное скалярное произведение векторов подчиняется всем аксиомам, то можно сделать вывод, что, если за скалярное произведение принять утроенное обычное скалярное произведение векторов, то такое линейное пространство будет являться евклидовым."
   ]
  },
  {
   "cell_type": "markdown",
   "id": "d949201b",
   "metadata": {},
   "source": [
    "### Задача 4"
   ]
  },
  {
   "cell_type": "markdown",
   "id": "94d1a5e0",
   "metadata": {},
   "source": [
    "_**Условие:**_"
   ]
  },
  {
   "cell_type": "markdown",
   "id": "6d1f7743",
   "metadata": {},
   "source": [
    "Выясните, какие из нижеперечисленных векторов образуют ортонормированный базис в линейном пространстве $\\mathbb{R}^{3}$:<br>\n",
    "а) $(1,0,0),(0,0,1);$ <br>\n",
    "б) $(1/\\sqrt{2},-1/\\sqrt{2},0),(1/\\sqrt{2},1/\\sqrt{2},0), (0,0,1);$<br>\n",
    "в) $(1/2, -1/2, 0), (0, 1/2, 1/2), (0,0,1);$<br>\n",
    "г) $(1,0,0),(0,1,0),(0,0,1)?$"
   ]
  },
  {
   "cell_type": "markdown",
   "id": "16f6b8ef",
   "metadata": {},
   "source": [
    "_**Решение:**_"
   ]
  },
  {
   "cell_type": "markdown",
   "id": "d3decaeb",
   "metadata": {},
   "source": [
    "Для определения того, что вектора образуют ортонормированный базис, нужно проверить выполнение условий. Если хотя бы одно из условий не выполнено, то базис не будет являтся ортонормированным:\n",
    "1. $(e_{i}, e_{j})=0$ $\\forall$ $i\\neq j$ (для векторов попарно) и\n",
    "2. $(e_{i},e_{i})=1$ $\\forall$ $i\\in[1, n]$<br>"
   ]
  },
  {
   "cell_type": "markdown",
   "id": "c78e8772",
   "metadata": {},
   "source": [
    "_**а)**_"
   ]
  },
  {
   "cell_type": "markdown",
   "id": "33722f09",
   "metadata": {},
   "source": [
    "$e_{1}=(1,0,0)$, $e_{2}=(0,0,1)$. "
   ]
  },
  {
   "cell_type": "markdown",
   "id": "488d75e9",
   "metadata": {},
   "source": [
    "Очевидно, что условие №2 выполняется для обоих векторов."
   ]
  },
  {
   "cell_type": "markdown",
   "id": "7cef89c9",
   "metadata": {},
   "source": [
    "$(e_{1}, e_{2})= 1 * 0 + 0 * 0 + 0 * 1 = 0$, условие №1 также выполняется, таким образом эти вектора образуют ортонормированный базис."
   ]
  },
  {
   "cell_type": "markdown",
   "id": "606fb971",
   "metadata": {},
   "source": [
    "_**б)**_"
   ]
  },
  {
   "cell_type": "markdown",
   "id": "46ee5465",
   "metadata": {},
   "source": [
    "$e_{1}=(1/\\sqrt{2},-1/\\sqrt{2},0)$, $e_{2}=(1/\\sqrt{2},1/\\sqrt{2},0)$, $e_{3}=(0,0,1)$."
   ]
  },
  {
   "cell_type": "markdown",
   "id": "c61346d2",
   "metadata": {},
   "source": [
    "$(e_{1}, e_{2})= 1/\\sqrt{2} * 1/\\sqrt{2} + (-1/\\sqrt{2}) * 1/\\sqrt{2} + 0 * 0 = \\frac{1}{2} - \\frac{1}{2} + 0 = 0$<br>\n",
    "$(e_{1}, e_{3})= 1/\\sqrt{2} * 0 + (-1/\\sqrt{2}) * 0 + 0 * 1 = 0 + 0 + 0 = 0$<br>\n",
    "$(e_{2}, e_{3})= 1/\\sqrt{2} * 0 + 1/\\sqrt{2} * 0 + 0 * 1 = 0 + 0 + 0 = 0$<br><br>\n",
    "Условие №1 выполняется."
   ]
  },
  {
   "cell_type": "markdown",
   "id": "954aca18",
   "metadata": {},
   "source": [
    "$(e_{1}, e_{1})= 1/\\sqrt{2} * 1/\\sqrt{2} + (-1/\\sqrt{2}) * (-1/\\sqrt{2}) + 0 * 0 = \\frac{1}{2} + \\frac{1}{2} + 0 = 1$<br>\n",
    "$(e_{2}, e_{2})= 1/\\sqrt{2} * 1/\\sqrt{2} + 1/\\sqrt{2} * 1/\\sqrt{2} + 0 * 0 = \\frac{1}{2} + \\frac{1}{2} + 0 = 1$<br>\n",
    "$(e_{3}, e_{3})= 0 * 0 + 0 * 0 + 1 * 1 = 0 + 0 + 1 = 1$<br><br>\n",
    "Условие №2 выполняется."
   ]
  },
  {
   "cell_type": "markdown",
   "id": "f43ecc17",
   "metadata": {},
   "source": [
    "Таким образом эти вектора образуют ортонормированный базис."
   ]
  },
  {
   "cell_type": "markdown",
   "id": "50d4357a",
   "metadata": {},
   "source": [
    "_**в)**_"
   ]
  },
  {
   "cell_type": "markdown",
   "id": "b3c5bb5b",
   "metadata": {},
   "source": [
    "$e_{1}=(\\frac{1}{2},-\\frac{1}{2},0)$, $e_{2}=(0,\\frac{1}{2},\\frac{1}{2})$, $e_{3}=(0,0,1)$."
   ]
  },
  {
   "cell_type": "markdown",
   "id": "869f5f5e",
   "metadata": {},
   "source": [
    "$(e_{1}, e_{2})= \\frac{1}{2} * 0 + (-\\frac{1}{2}) * \\frac{1}{2} + 0 * \\frac{1}{2} = 0 - \\frac{1}{4} + 0 = - \\frac{1}{4}$<br>\n",
    "$(e_{1}, e_{3})= \\frac{1}{2} * 0 + (-\\frac{1}{2}) * 0 + 0 * 1 = 0 + 0 + 0 = 0$<br>\n",
    "$(e_{2}, e_{3})= 0 * 0 + \\frac{1}{2} * 0 + \\frac{1}{2} * 1 = 0 + 0 + \\frac{1}{2} = \\frac{1}{2}$<br><br>\n",
    "Условие №1 не выполняется."
   ]
  },
  {
   "cell_type": "markdown",
   "id": "feeebe1a",
   "metadata": {},
   "source": [
    "Таким образом эти вектора не образуют ортонормированный базис."
   ]
  },
  {
   "cell_type": "markdown",
   "id": "786d687c",
   "metadata": {},
   "source": [
    "_**г)**_"
   ]
  },
  {
   "cell_type": "markdown",
   "id": "b9efee56",
   "metadata": {},
   "source": [
    "$e_{1}=(1,0,0)$, $e_{2}=(0,1,0)$, $e_{3}=(0,0,1)$."
   ]
  },
  {
   "cell_type": "markdown",
   "id": "80887b36",
   "metadata": {},
   "source": [
    "Очевидно, что условие №2 выполняется для всех векторов."
   ]
  },
  {
   "cell_type": "markdown",
   "id": "155a146a",
   "metadata": {},
   "source": [
    "$(e_{1}, e_{2})= 1 * 0 + 0 * 1 + 0 * 0 = 0$<br>\n",
    "$(e_{1}, e_{3})= 1 * 0 + 0 * 0 + 0 * 1 = 0$<br>\n",
    "$(e_{2}, e_{3})= 0 * 0 + 1 * 0 + 0 * 1 = 0$<br><br>\n",
    "Условие №1 выполняется."
   ]
  },
  {
   "cell_type": "markdown",
   "id": "fdc8807f",
   "metadata": {},
   "source": [
    "Таким образом эти вектора образуют ортонормированный базис."
   ]
  },
  {
   "cell_type": "code",
   "execution_count": null,
   "id": "3f4ba532",
   "metadata": {},
   "outputs": [],
   "source": []
  }
 ],
 "metadata": {
  "kernelspec": {
   "display_name": "Python 3 (ipykernel)",
   "language": "python",
   "name": "python3"
  },
  "language_info": {
   "codemirror_mode": {
    "name": "ipython",
    "version": 3
   },
   "file_extension": ".py",
   "mimetype": "text/x-python",
   "name": "python",
   "nbconvert_exporter": "python",
   "pygments_lexer": "ipython3",
   "version": "3.9.12"
  }
 },
 "nbformat": 4,
 "nbformat_minor": 5
}
