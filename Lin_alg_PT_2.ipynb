{
 "cells": [
  {
   "cell_type": "markdown",
   "id": "2ddb8ff5",
   "metadata": {},
   "source": [
    "## Практическое задание №2."
   ]
  },
  {
   "cell_type": "markdown",
   "id": "b02154b8",
   "metadata": {},
   "source": [
    "## Матрицы и матричные операции."
   ]
  },
  {
   "cell_type": "markdown",
   "id": "76f76a72",
   "metadata": {},
   "source": [
    "## Часть 1"
   ]
  },
  {
   "cell_type": "markdown",
   "id": "cdbb5591",
   "metadata": {},
   "source": [
    "### Задача 1"
   ]
  },
  {
   "cell_type": "markdown",
   "id": "e03bf650",
   "metadata": {},
   "source": [
    "_**Условие:**_"
   ]
  },
  {
   "cell_type": "markdown",
   "id": "8bc3f55c",
   "metadata": {},
   "source": [
    "Установите, какие произведения матриц $AB$ и $BA$ определены, и найдите размерности полученных матриц:\n",
    "\n",
    "   а) $A$ — матрица $4\\times 2$, $B$ — матрица $4\\times 2$;\n",
    "    \n",
    "   б) $A$ — матрица $2\\times 5$, $B$ — матрица $5\\times 3$;\n",
    "    \n",
    "   в) $A$ — матрица $8\\times 3$, $B$ — матрица $3\\times 8$;\n",
    "    \n",
    "   г) $A$ — квадратная матрица $4\\times 4$, $B$ — квадратная матрица $4\\times 4$."
   ]
  },
  {
   "cell_type": "markdown",
   "id": "a6ffedd9",
   "metadata": {},
   "source": [
    "_**Решение:**_"
   ]
  },
  {
   "cell_type": "markdown",
   "id": "65fa2379",
   "metadata": {},
   "source": [
    "Исходя из правила перемножения матриц и обязательного условия равности количества столбцов 1-ой матрицы количеству строк 2-ой матрицы, получаем следующие выводы:"
   ]
  },
  {
   "cell_type": "markdown",
   "id": "33e1c666",
   "metadata": {},
   "source": [
    " а) $A$ — матрица $4\\times 2$, $B$ — матрица $4\\times 2$ — данные матрицы перемножить нельзя, поскольку число столбцов у $A$ = 2 не равно количеству строк у матрицы $B$ = 4;\n",
    "    \n",
    "   б) $A$ — матрица $2\\times 5$, $B$ — матрица $5\\times 3$ — для этих матриц определено произведение $AB$ результатом, которого будет матрица $2\\times 3$, а произведение $BA$, произвести нельзя, так как в этом случае число столбцов у $B$ = 3 не равно количеству строк у матрицы $A$ = 2;\n",
    "    \n",
    "   в) $A$ — матрица $8\\times 3$, $B$ — матрица $3\\times 8$ — для данных матриц можно произвести оба произведения $AB$ и $BA$, так как в обоих случаях количество столбцов будет совпадать с количеством строк, в результате при $AB$ получится матрица размерностью $8\\times 8$, при $BA$ — $3\\times 3$;\n",
    "    \n",
    "   г) $A$ — квадратная матрица $4\\times 4$, $B$ — квадратная матрица $4\\times 4$ — для квадратных матриц можно произвести оба произведения $AB$ и $BA$, так как в обоих случаях количество столбцов будет совпадать с количеством строк, и также в результате получатся матрицы размерностью $4\\times 4$."
   ]
  },
  {
   "cell_type": "markdown",
   "id": "29c7f0ff",
   "metadata": {},
   "source": [
    "### Задача 2"
   ]
  },
  {
   "cell_type": "markdown",
   "id": "0e0b75c4",
   "metadata": {},
   "source": [
    "_**Условие:**_"
   ]
  },
  {
   "cell_type": "markdown",
   "id": "367a1866",
   "metadata": {},
   "source": [
    "Найдите сумму и произведение матриц $A=\\begin{pmatrix}\n",
    "1 & -2\\\\ \n",
    "3 & 0\n",
    "\\end{pmatrix}$ и $B=\\begin{pmatrix}\n",
    "4 & -1\\\\ \n",
    "0 & 5\n",
    "\\end{pmatrix}.$"
   ]
  },
  {
   "cell_type": "markdown",
   "id": "b69a2a91",
   "metadata": {},
   "source": [
    "_**Решение:**_"
   ]
  },
  {
   "cell_type": "markdown",
   "id": "a8caa948",
   "metadata": {},
   "source": [
    "Поскольку данные матрицы имеют одинаковый порядок, то их сумма будет матрица $C$:"
   ]
  },
  {
   "cell_type": "markdown",
   "id": "571c2403",
   "metadata": {},
   "source": [
    "$$С = A + B = \n",
    "\\begin{pmatrix}\n",
    "1 & -2\\\\ \n",
    "3 & 0 \n",
    "\\end{pmatrix} + \\begin{pmatrix}\n",
    "4 & -1\\\\ \n",
    "0 & 5 \n",
    "\\end{pmatrix} = \\begin{pmatrix}\n",
    "1 + 4 & -2 + (-1)\\\\ \n",
    "3 + 0 & 0 + 5\\\\ \n",
    "\\end{pmatrix}\n",
    "= \\begin{pmatrix}\n",
    "5 & -3\\\\ \n",
    "3 & 5\\\\ \n",
    "\\end{pmatrix}$$"
   ]
  },
  {
   "cell_type": "markdown",
   "id": "8bcb3fb4",
   "metadata": {},
   "source": [
    "Так как матрицы квадратные, то можно осуществить произведение $AB$ и $BA$:"
   ]
  },
  {
   "cell_type": "markdown",
   "id": "a106ea50",
   "metadata": {},
   "source": [
    "$$AB = \n",
    "\\begin{pmatrix}\n",
    "1 & -2\\\\ \n",
    "3 & 0 \n",
    "\\end{pmatrix} \\cdot \\begin{pmatrix}\n",
    "4 & -1\\\\ \n",
    "0 & 5 \n",
    "\\end{pmatrix} = \\begin{pmatrix}\n",
    "(1 * 4 + (-2) * 0) & (1 * (-1) + (-2) * 5)\\\\ \n",
    "(3 * 4 + 0 * 0) & (3 * (-1) + 0 * 5)\\\\ \n",
    "\\end{pmatrix}\n",
    "= \\begin{pmatrix}\n",
    "4 & -11\\\\ \n",
    "12 & -3\\\\ \n",
    "\\end{pmatrix}$$"
   ]
  },
  {
   "cell_type": "markdown",
   "id": "06240203",
   "metadata": {},
   "source": [
    "$$BA = \n",
    "\\begin{pmatrix}\n",
    "4 & -1\\\\ \n",
    "0 & 5\n",
    "\\end{pmatrix} \\cdot \\begin{pmatrix}\n",
    "1 & -2\\\\ \n",
    "3 & 0\n",
    "\\end{pmatrix} = \\begin{pmatrix}\n",
    "(4 * 1 + (-1) * 3) & (4 * (-2) + (-1) * 0)\\\\ \n",
    "(0 * 1 + 5 * 3) & (0 * (-2) + 5 * 0)\\\\ \n",
    "\\end{pmatrix}\n",
    "= \\begin{pmatrix}\n",
    "1 & -8\\\\ \n",
    "15 & 0\\\\ \n",
    "\\end{pmatrix}$$"
   ]
  },
  {
   "cell_type": "markdown",
   "id": "deadcaa5",
   "metadata": {},
   "source": [
    "Проверим с помощью `NumPy`:"
   ]
  },
  {
   "cell_type": "code",
   "execution_count": 1,
   "id": "001f5f96",
   "metadata": {},
   "outputs": [],
   "source": [
    "import numpy as np"
   ]
  },
  {
   "cell_type": "code",
   "execution_count": 2,
   "id": "bfcbb269",
   "metadata": {},
   "outputs": [
    {
     "name": "stdout",
     "output_type": "stream",
     "text": [
      "Матрица A\n",
      "[[ 1 -2]\n",
      " [ 3  0]]\n",
      "\n",
      "Матрица B\n",
      "[[ 4 -1]\n",
      " [ 0  5]]\n",
      "\n",
      "Матрица С = A + B\n",
      "[[ 5 -3]\n",
      " [ 3  5]]\n",
      "Матрица AB\n",
      "[[  4 -11]\n",
      " [ 12  -3]]\n",
      "Матрица BA\n",
      "[[ 1 -8]\n",
      " [15  0]]\n"
     ]
    }
   ],
   "source": [
    "A = np.array([[1, -2], [3, 0]])\n",
    "B = np.array([[4, -1], [0, 5]])\n",
    "\n",
    "print(f'Матрица A\\n{A}\\n')\n",
    "print(f'Матрица B\\n{B}\\n')\n",
    "print(f'Матрица С = A + B\\n{A + B}')\n",
    "print(f'Матрица AB\\n{np.dot(A, B)}')\n",
    "print(f'Матрица BA\\n{np.dot(B, A)}')"
   ]
  },
  {
   "cell_type": "markdown",
   "id": "57d0f084",
   "metadata": {},
   "source": [
    "### Задача 3"
   ]
  },
  {
   "cell_type": "markdown",
   "id": "dda9942e",
   "metadata": {},
   "source": [
    "_**Условие:**_"
   ]
  },
  {
   "cell_type": "markdown",
   "id": "d08d99e9",
   "metadata": {},
   "source": [
    "Из закономерностей сложения и умножения матриц на число можно сделать вывод, что матрицы одного размера образуют линейное пространство. Вычислите линейную комбинацию $3A-2B+4C$ для матриц $A=\\begin{pmatrix}\n",
    "1 & 7\\\\ \n",
    "3 & -6\n",
    "\\end{pmatrix}$, $B=\\begin{pmatrix}\n",
    "0 & 5\\\\ \n",
    "2 & -1\n",
    "\\end{pmatrix}$, $C=\\begin{pmatrix}\n",
    "2 & -4\\\\ \n",
    "1 & 1\n",
    "\\end{pmatrix}.$"
   ]
  },
  {
   "cell_type": "markdown",
   "id": "6862f3b8",
   "metadata": {},
   "source": [
    "_**Решение:**_"
   ]
  },
  {
   "cell_type": "markdown",
   "id": "2bf7e949",
   "metadata": {},
   "source": [
    "Так как матрицы одного размера, используя сочетательное свойство сложения и свойства умножения на число, преобразуем комбинацию следующим образом:"
   ]
  },
  {
   "cell_type": "markdown",
   "id": "ec3a8b12",
   "metadata": {},
   "source": [
    "$3A-2B+4C = 3 \\cdot \\begin{pmatrix}\n",
    "1 & 7\\\\ \n",
    "3 & -6\n",
    "\\end{pmatrix} + ((-2) \\cdot \\begin{pmatrix}\n",
    "0 & 5\\\\ \n",
    "2 & -1\n",
    "\\end{pmatrix} + 4 \\cdot \\begin{pmatrix}\n",
    "2 & -4\\\\ \n",
    "1 & 1\n",
    "\\end{pmatrix}) = \\begin{pmatrix}\n",
    "3 & 21\\\\ \n",
    "9 & -18\n",
    "\\end{pmatrix} + (\\begin{pmatrix}\n",
    "0 & -10\\\\ \n",
    "-4 & 2\n",
    "\\end{pmatrix} + \\begin{pmatrix}\n",
    "8 & -16\\\\ \n",
    "4 & 4\n",
    "\\end{pmatrix}) = \\begin{pmatrix}\n",
    "3 & 21\\\\ \n",
    "9 & -18\n",
    "\\end{pmatrix} + \\begin{pmatrix}\n",
    "8 & -26\\\\ \n",
    "0 & 6\n",
    "\\end{pmatrix} = \\begin{pmatrix}\n",
    "11 & -5\\\\ \n",
    "9 & -12\n",
    "\\end{pmatrix}$"
   ]
  },
  {
   "cell_type": "code",
   "execution_count": 3,
   "id": "05386c12",
   "metadata": {},
   "outputs": [
    {
     "name": "stdout",
     "output_type": "stream",
     "text": [
      "Линейная комбинация 3A - 2B + 4C:\n",
      "[[ 11  -5]\n",
      " [  9 -12]]\n"
     ]
    }
   ],
   "source": [
    "A = np.array([[1, 7], [3, -6]])\n",
    "B = np.array([[0, 5], [2, -1]])\n",
    "C = np.array([[2, -4], [1, 1]])\n",
    "\n",
    "print(f'Линейная комбинация 3A - 2B + 4C:\\n{3 * A - 2 * B + 4 * C}')"
   ]
  },
  {
   "cell_type": "markdown",
   "id": "bc766372",
   "metadata": {},
   "source": [
    "### Задача 4"
   ]
  },
  {
   "cell_type": "markdown",
   "id": "c43d6ae8",
   "metadata": {},
   "source": [
    "_**Условие:**_"
   ]
  },
  {
   "cell_type": "markdown",
   "id": "6e4842d1",
   "metadata": {},
   "source": [
    "Дана матрица $A=\\begin{pmatrix}\n",
    "4 & 1\\\\ \n",
    "5 & -2\\\\ \n",
    "2 & 3\n",
    "\\end{pmatrix}$.\n",
    "Вычислите $AA^{T}$ и $A^{T}A$."
   ]
  },
  {
   "cell_type": "markdown",
   "id": "97a0ab9c",
   "metadata": {},
   "source": [
    "_**Решение:**_"
   ]
  },
  {
   "cell_type": "markdown",
   "id": "e0f3af59",
   "metadata": {},
   "source": [
    "Поскольку при транспонировании строки исходной матрицы становятся столбцами, а столбцы — строками, то получаем:"
   ]
  },
  {
   "cell_type": "markdown",
   "id": "7724b63e",
   "metadata": {},
   "source": [
    "$A=\\begin{pmatrix}\n",
    "4 & 1\\\\ \n",
    "5 & -2\\\\ \n",
    "2 & 3\n",
    "\\end{pmatrix}, \\;A^{T}=\\begin{pmatrix}\n",
    "4 & 5 & 2\\\\ \n",
    "1 & -2 & 3 \n",
    "\\end{pmatrix}$"
   ]
  },
  {
   "cell_type": "markdown",
   "id": "fd981146",
   "metadata": {},
   "source": [
    "Тогда $AA^{T}$ и $A^{T}A$:"
   ]
  },
  {
   "cell_type": "markdown",
   "id": "60b3f30f",
   "metadata": {},
   "source": [
    "$$A \\cdot A^{T} = \\begin{pmatrix}\n",
    "(4 * 4) + (1 * 1) & (4 * 5) + (1 * (-2)) & (4 * 2) + (1 * 3)\\\\ \n",
    "(5 * 4) + ((-2) * 1) & (5 * 5) + ((-2) * (-2)) & (5 * 2) + ((-2) * 3)\\\\ \n",
    "(2 * 4) + (3 * 1) & (2 * 5) + (3 * (-2)) & (2 * 2) + (3 * 3)\n",
    "\\end{pmatrix} = \\begin{pmatrix}\n",
    "17 & 18 & 11\\\\ \n",
    "18 & 29 & 4\\\\ \n",
    "11 & 4 & 13\n",
    "\\end{pmatrix}$$<br>\n",
    "$$A^{T} \\cdot A = \\begin{pmatrix}\n",
    "(4 * 4) + (5 * 5) + (2 * 2) & (4 * 1) + (5 * (-2)) + (2 * 3)\\\\ \n",
    "(1 * 4) + ((-2) * 5) + (3 * 2) & (1 * 1) + ((-2) * (-2)) + (3 * 3)\n",
    "\\end{pmatrix} = \\begin{pmatrix}\n",
    "45 & 0\\\\ \n",
    "0 & 14\n",
    "\\end{pmatrix}$$"
   ]
  },
  {
   "cell_type": "code",
   "execution_count": 4,
   "id": "7a02e796",
   "metadata": {},
   "outputs": [
    {
     "name": "stdout",
     "output_type": "stream",
     "text": [
      "Произведение А на транспонированную А:\n",
      "[[17 18 11]\n",
      " [18 29  4]\n",
      " [11  4 13]]\n",
      "Произведение транспонированной А на А:\n",
      "[[45  0]\n",
      " [ 0 14]]\n"
     ]
    }
   ],
   "source": [
    "A = np.array([[4, 1], [5, -2], [2, 3]])\n",
    "\n",
    "print(f'Произведение А на транспонированную А:\\n{np.dot(A, A.T)}')\n",
    "print(f'Произведение транспонированной А на А:\\n{np.dot(A.T, A)}')"
   ]
  },
  {
   "cell_type": "markdown",
   "id": "7bd2c163",
   "metadata": {},
   "source": [
    "## Часть 2"
   ]
  },
  {
   "cell_type": "markdown",
   "id": "41cfb764",
   "metadata": {},
   "source": [
    "### Задача 1"
   ]
  },
  {
   "cell_type": "markdown",
   "id": "9b6ea3ce",
   "metadata": {},
   "source": [
    "_**Условие:**_"
   ]
  },
  {
   "cell_type": "markdown",
   "id": "06956672",
   "metadata": {},
   "source": [
    "Вычислите определитель:\n",
    "\n",
    "   a)\n",
    "\n",
    "$$\\begin{pmatrix}\n",
    "sinx & -cosx\\\\ \n",
    "cosx & sinx\n",
    "\\end{pmatrix}$$\n",
    "\n",
    "   б)\n",
    "    \n",
    "$$\\begin{pmatrix}\n",
    "4 & 2 & 3\\\\ \n",
    "0 & 5 & 1\\\\ \n",
    "0 & 0 & 9\n",
    "\\end{pmatrix}$$\n",
    "    \n",
    "   в)\n",
    "\n",
    "$$\\begin{pmatrix}\n",
    "1 & 2 & 3\\\\ \n",
    "4 & 5 & 6\\\\ \n",
    "7 & 8 & 9\n",
    "\\end{pmatrix}$$"
   ]
  },
  {
   "cell_type": "markdown",
   "id": "f39e9218",
   "metadata": {},
   "source": [
    "_**Решение:**_"
   ]
  },
  {
   "cell_type": "markdown",
   "id": "68d81794",
   "metadata": {},
   "source": [
    "_**a)**_"
   ]
  },
  {
   "cell_type": "markdown",
   "id": "ce5876ec",
   "metadata": {},
   "source": [
    "Так как данная матрица 2-ого порядка, то определитель равен разности произведения элементов, стоящих на главной диагонали этой матрицы, и элементов, располагающихся на её побочной диагонали:"
   ]
  },
  {
   "cell_type": "markdown",
   "id": "ae1d19d2",
   "metadata": {},
   "source": [
    "$det\\begin{pmatrix}\n",
    "sinx & -cosx\\\\ \n",
    "cosx & sinx\n",
    "\\end{pmatrix} = sinx \\cdot sinx - (-cosx) \\cdot cosx = sin^2x + cos^2x = 1$ "
   ]
  },
  {
   "cell_type": "markdown",
   "id": "5d1e1e65",
   "metadata": {},
   "source": [
    "Также, поскольку в методичке разобран пример с такой же матрицей и определено, что эта матрица является ортоганальной, то обращаясь к свойствам определителя, можно сразу сказать, что определитель такой матрицы равен $detA = \\pm1.$"
   ]
  },
  {
   "cell_type": "markdown",
   "id": "7655cce6",
   "metadata": {},
   "source": [
    "_**б)**_"
   ]
  },
  {
   "cell_type": "markdown",
   "id": "d9f64166",
   "metadata": {},
   "source": [
    "Данная матрица является верхне-треугольной, поэтому, исходя из свойств определителя, для такой матрицы определитель равен произведению элементов, стоящих на её главной диагонали:"
   ]
  },
  {
   "cell_type": "markdown",
   "id": "52bd3d0a",
   "metadata": {},
   "source": [
    "$det\\begin{pmatrix}\n",
    "4 & 2 & 3\\\\ \n",
    "0 & 5 & 1\\\\ \n",
    "0 & 0 & 9\n",
    "\\end{pmatrix} = 4 * 5 * 9 = 180$"
   ]
  },
  {
   "cell_type": "code",
   "execution_count": 5,
   "id": "391c2bd8",
   "metadata": {},
   "outputs": [
    {
     "name": "stdout",
     "output_type": "stream",
     "text": [
      "Матрица:\n",
      "[[4 2 3]\n",
      " [0 5 1]\n",
      " [0 0 9]]\n",
      "Определитель:\n",
      "180.0\n"
     ]
    }
   ],
   "source": [
    "Up_Triang_Matrix = np.array([[4, 2, 3], [0, 5, 1], [0, 0, 9]])\n",
    "print(f'Матрица:\\n{Up_Triang_Matrix}')\n",
    "print(f'Определитель:\\n{np.linalg.det(Up_Triang_Matrix)}')"
   ]
  },
  {
   "cell_type": "markdown",
   "id": "d4db9646",
   "metadata": {},
   "source": [
    "_**в)**_"
   ]
  },
  {
   "cell_type": "markdown",
   "id": "98c504bb",
   "metadata": {},
   "source": [
    "Поскольку данная матрица порядка $n\\geq2$, то вычислим определитель разложением, к примеру, по 1-ой строке:"
   ]
  },
  {
   "cell_type": "markdown",
   "id": "40f6c91a",
   "metadata": {},
   "source": [
    "$det\\begin{pmatrix}\n",
    "1 & 2 & 3\\\\ \n",
    "4 & 5 & 6\\\\ \n",
    "7 & 8 & 9\n",
    "\\end{pmatrix} = (-1)^{1 + 1} \\cdot 1 \\cdot \\begin{pmatrix}\n",
    "5 & 6\\\\ \n",
    "8 & 9\n",
    "\\end{pmatrix} + (-1)^{1 + 2} \\cdot 2 \\cdot \\begin{pmatrix}\n",
    "4 & 6\\\\ \n",
    "7 & 9\n",
    "\\end{pmatrix} + (-1)^{1 + 3} \\cdot 3 \\cdot \\begin{pmatrix}\n",
    "4 & 5\\\\ \n",
    "7 & 8\n",
    "\\end{pmatrix} = 1 \\cdot (5 * 9 - 6 * 8) - 2 \\cdot (4 * 9 - 6 * 7) + 3 \\cdot (4 * 8 - 5 * 7) = - 3 + 12 - 9 = 0$"
   ]
  },
  {
   "cell_type": "code",
   "execution_count": 6,
   "id": "474bff55",
   "metadata": {},
   "outputs": [
    {
     "name": "stdout",
     "output_type": "stream",
     "text": [
      "Матрица:\n",
      "[[1 2 3]\n",
      " [4 5 6]\n",
      " [7 8 9]]\n",
      "Определитель:\n",
      "-0\n"
     ]
    }
   ],
   "source": [
    "Funny_Matrix = np.array([[1, 2, 3], [4, 5, 6], [7, 8, 9]])\n",
    "print(f'Матрица:\\n{Funny_Matrix}')\n",
    "print(f'Определитель:\\n{np.linalg.det(Funny_Matrix):.0f}')"
   ]
  },
  {
   "cell_type": "markdown",
   "id": "0a2c2546",
   "metadata": {},
   "source": [
    "### Задача 2"
   ]
  },
  {
   "cell_type": "markdown",
   "id": "edb042dd",
   "metadata": {},
   "source": [
    "_**Условие:**_"
   ]
  },
  {
   "cell_type": "markdown",
   "id": "e83e6d2a",
   "metadata": {},
   "source": [
    "Определитель матрицы $A$ равен $4$. Найдите:\n",
    "\n",
    "   а) $det(A^{2})$;\n",
    "    \n",
    "   б) $det(A^{T})$;\n",
    "    \n",
    "   в) $det(2A)$."
   ]
  },
  {
   "cell_type": "markdown",
   "id": "0e6189ea",
   "metadata": {},
   "source": [
    "_**Решение:**_"
   ]
  },
  {
   "cell_type": "markdown",
   "id": "b57fbfdb",
   "metadata": {},
   "source": [
    "$a)$ В условии не сказано, что матрица $A$ квадратная, но так как $A^2$ означает умножение данной матрицы на саму себя, и предположив, что она квадратная, то исходя из свойств определителя, для двух квадратных матриц одинакового размера: $det(AB)=detA\\cdot detB$ получаем, что $det(A^2 = A \\cdot A) = detA \\cdot detA = 16$"
   ]
  },
  {
   "cell_type": "markdown",
   "id": "0060ad53",
   "metadata": {},
   "source": [
    "$б)$ Исходя из свойств определителя, определитель транспонированной матрицы равен определителю исходной $det(A^{T}) = det(A) = 4$"
   ]
  },
  {
   "cell_type": "markdown",
   "id": "68517bf2",
   "metadata": {},
   "source": [
    "$в)$ Исходя из свойств определителя, умножение строки или столбца матрицы на число $\\lambda$ приведёт к умножению определителя матрицы на то же число: $det(2A) = 2 \\cdot 4 = 8$"
   ]
  },
  {
   "cell_type": "markdown",
   "id": "fe3a2443",
   "metadata": {},
   "source": [
    "### Задача 3"
   ]
  },
  {
   "cell_type": "markdown",
   "id": "1f911b92",
   "metadata": {},
   "source": [
    "_**Условие:**_"
   ]
  },
  {
   "cell_type": "markdown",
   "id": "06a57340",
   "metadata": {},
   "source": [
    "Докажите, что матрица:\n",
    "\n",
    "$$\\begin{pmatrix}\n",
    "-2 & 7 & -3\\\\ \n",
    "4 & -14 & 6\\\\ \n",
    "-3 & 7 & 13\n",
    "\\end{pmatrix}$$\n",
    "   \n",
    "вырожденная."
   ]
  },
  {
   "cell_type": "markdown",
   "id": "332cb186",
   "metadata": {},
   "source": [
    "_**Решение:**_"
   ]
  },
  {
   "cell_type": "markdown",
   "id": "4ff0a98a",
   "metadata": {},
   "source": [
    "По определению: матрица называется вырожденной, если её определитель равен нулю. Вычислим определитель:"
   ]
  },
  {
   "cell_type": "code",
   "execution_count": 7,
   "id": "087adf8f",
   "metadata": {},
   "outputs": [
    {
     "name": "stdout",
     "output_type": "stream",
     "text": [
      "Матрица:\n",
      "[[ -2   7  -3]\n",
      " [  4 -14   6]\n",
      " [ -3   7  13]]\n",
      "Определитель:\n",
      "0.0\n"
     ]
    }
   ],
   "source": [
    "Any_Matrix = np.array([[-2, 7, -3], [4, -14, 6], [-3, 7, 13]])\n",
    "print(f'Матрица:\\n{Any_Matrix}')\n",
    "print(f'Определитель:\\n{np.linalg.det(Any_Matrix)}')"
   ]
  },
  {
   "cell_type": "markdown",
   "id": "209ffa1b",
   "metadata": {},
   "source": [
    "Таким образом заданная матрица является вырожденной."
   ]
  },
  {
   "cell_type": "markdown",
   "id": "d9127c3e",
   "metadata": {},
   "source": [
    "### Задача 4"
   ]
  },
  {
   "cell_type": "markdown",
   "id": "64de3071",
   "metadata": {},
   "source": [
    "_**Условие:**_"
   ]
  },
  {
   "cell_type": "markdown",
   "id": "75a16f70",
   "metadata": {},
   "source": [
    "Найдите ранг матрицы:\n",
    "\n",
    "   а) $\\begin{pmatrix}\n",
    "1 & 2 & 3\\\\ \n",
    "1 & 1 & 1\\\\ \n",
    "2 & 3 & 4\n",
    "\\end{pmatrix};$\n",
    "\n",
    "   б) $\\begin{pmatrix}\n",
    "0 & 0 & 2 & 1\\\\ \n",
    "0 & 0 & 2 & 2\\\\ \n",
    "0 & 0 & 4 & 3\\\\ \n",
    "2 & 3 & 5 & 6\n",
    "\\end{pmatrix}.$"
   ]
  },
  {
   "cell_type": "markdown",
   "id": "1da66991",
   "metadata": {},
   "source": [
    "_**Решение:**_"
   ]
  },
  {
   "cell_type": "markdown",
   "id": "8c330bde",
   "metadata": {},
   "source": [
    "_**a)**_"
   ]
  },
  {
   "cell_type": "markdown",
   "id": "248bc110",
   "metadata": {},
   "source": [
    "Размерность матрицы: $3 \\times 3$, таким образом ранг будет $R \\leq 3$. 3-я строка является линейной комбинацией 1-ой и 2-ой (сумма элементов), поэтому будем искать минор 2-ого порядка. Если взять минор из 1-ого и 2-ого элементов 1-ой строки и 1-ого и 2-ого элементов 2-ой строки, то его определитель будет равен -1, таким образом ранг матрицы равен 2.  "
   ]
  },
  {
   "cell_type": "code",
   "execution_count": 8,
   "id": "d1ea23ab",
   "metadata": {},
   "outputs": [
    {
     "name": "stdout",
     "output_type": "stream",
     "text": [
      "Матрица:\n",
      "[[1 2 3]\n",
      " [1 1 1]\n",
      " [2 3 4]]\n",
      "Ранг:\n",
      "2\n"
     ]
    }
   ],
   "source": [
    "a = np.array([[1, 2, 3], [1, 1, 1], [2, 3, 4]])\n",
    "print(f'Матрица:\\n{a}')\n",
    "print(f'Ранг:\\n{np.linalg.matrix_rank(a)}')"
   ]
  },
  {
   "cell_type": "markdown",
   "id": "c4cc0799",
   "metadata": {},
   "source": [
    "_**б)**_"
   ]
  },
  {
   "cell_type": "markdown",
   "id": "2c22dbf8",
   "metadata": {},
   "source": [
    "Размерность матрицы: $4 \\times 4$, таким образом ранг будет $R \\leq 4$. 3-я строка является линейной комбинацией 1-ой и 2-ой (сумма элементов), поэтому а значит, её можно отбросить:\n",
    "\n",
    "$$\\begin{pmatrix}\n",
    "0 & 0 & 2 & 1\\\\ \n",
    "0 & 0 & 2 & 2\\\\ \n",
    "2 & 3 & 5 & 6\n",
    "\\end{pmatrix}$$"
   ]
  },
  {
   "cell_type": "markdown",
   "id": "20f81dfb",
   "metadata": {},
   "source": [
    "Подсчитаем определитель минора 3-х строк со 2-ого по 4-ый столбец:"
   ]
  },
  {
   "cell_type": "code",
   "execution_count": 9,
   "id": "acfadc12",
   "metadata": {},
   "outputs": [
    {
     "name": "stdout",
     "output_type": "stream",
     "text": [
      "Минор:\n",
      "[[0 2 1]\n",
      " [0 2 2]\n",
      " [3 5 6]]\n",
      "Определитель:\n",
      "6.0\n"
     ]
    }
   ],
   "source": [
    "minor = np.array([[0, 2, 1], [0, 2, 2], [3, 5, 6]])\n",
    "print(f'Минор:\\n{minor}')\n",
    "print(f'Определитель:\\n{np.linalg.det(minor)}')"
   ]
  },
  {
   "cell_type": "markdown",
   "id": "d694cffa",
   "metadata": {},
   "source": [
    "Определитель этого минора 3-его порядка не равен 0, поэтому данный минор невырожденный и соответственно ранг матрицы равен 3."
   ]
  },
  {
   "cell_type": "code",
   "execution_count": 10,
   "id": "99a02a19",
   "metadata": {},
   "outputs": [
    {
     "name": "stdout",
     "output_type": "stream",
     "text": [
      "Матрица:\n",
      "[[0 0 2 1]\n",
      " [0 0 2 2]\n",
      " [0 0 4 3]\n",
      " [2 3 4 5]]\n",
      "Ранг:\n",
      "3\n"
     ]
    }
   ],
   "source": [
    "b = np.array([[0, 0, 2, 1], [0, 0, 2, 2], [0, 0, 4, 3], [2, 3, 4, 5]])\n",
    "print(f'Матрица:\\n{b}')\n",
    "print(f'Ранг:\\n{np.linalg.matrix_rank(b)}')"
   ]
  },
  {
   "cell_type": "code",
   "execution_count": null,
   "id": "e3ca2819",
   "metadata": {},
   "outputs": [],
   "source": []
  }
 ],
 "metadata": {
  "kernelspec": {
   "display_name": "Python 3 (ipykernel)",
   "language": "python",
   "name": "python3"
  },
  "language_info": {
   "codemirror_mode": {
    "name": "ipython",
    "version": 3
   },
   "file_extension": ".py",
   "mimetype": "text/x-python",
   "name": "python",
   "nbconvert_exporter": "python",
   "pygments_lexer": "ipython3",
   "version": "3.9.12"
  }
 },
 "nbformat": 4,
 "nbformat_minor": 5
}
